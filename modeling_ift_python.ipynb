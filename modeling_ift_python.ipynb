{
 "cells": [
  {
   "cell_type": "code",
   "execution_count": 19,
   "metadata": {},
   "outputs": [],
   "source": [
    "import pandas as pd\n",
    "import numpy as np\n",
    "from sklearn.compose import ColumnTransformer\n",
    "from sklearn.pipeline import Pipeline\n",
    "from sklearn.impute import SimpleImputer\n",
    "from sklearn.preprocessing import StandardScaler, OneHotEncoder\n",
    "from sklearn.linear_model import LogisticRegression, Ridge, LinearRegression\n",
    "from sklearn.model_selection import train_test_split, GridSearchCV\n",
    "from sklearn.ensemble import GradientBoostingRegressor\n",
    "from sklearn.pipeline import Pipeline\n",
    "from sklearn import metrics\n",
    "\n",
    "import matplotlib.pyplot as plt\n",
    "import altair as alt\n"
   ]
  },
  {
   "cell_type": "code",
   "execution_count": 3,
   "metadata": {},
   "outputs": [],
   "source": [
    "ift_data = pd.read_excel('data/ift_data.xlsx')"
   ]
  },
  {
   "cell_type": "code",
   "execution_count": 5,
   "metadata": {},
   "outputs": [
    {
     "data": {
      "text/html": [
       "<div>\n",
       "<style scoped>\n",
       "    .dataframe tbody tr th:only-of-type {\n",
       "        vertical-align: middle;\n",
       "    }\n",
       "\n",
       "    .dataframe tbody tr th {\n",
       "        vertical-align: top;\n",
       "    }\n",
       "\n",
       "    .dataframe thead th {\n",
       "        text-align: right;\n",
       "    }\n",
       "</style>\n",
       "<table border=\"1\" class=\"dataframe\">\n",
       "  <thead>\n",
       "    <tr style=\"text-align: right;\">\n",
       "      <th></th>\n",
       "      <th>Gas</th>\n",
       "      <th>Water_content</th>\n",
       "      <th>time_minutes</th>\n",
       "      <th>volume_ratio</th>\n",
       "      <th>IFT</th>\n",
       "    </tr>\n",
       "  </thead>\n",
       "  <tbody>\n",
       "    <tr>\n",
       "      <th>0</th>\n",
       "      <td>CH4</td>\n",
       "      <td>0.0</td>\n",
       "      <td>0.000050</td>\n",
       "      <td>1.000000</td>\n",
       "      <td>25.08</td>\n",
       "    </tr>\n",
       "    <tr>\n",
       "      <th>1</th>\n",
       "      <td>CH4</td>\n",
       "      <td>0.0</td>\n",
       "      <td>14.998333</td>\n",
       "      <td>1.002618</td>\n",
       "      <td>25.12</td>\n",
       "    </tr>\n",
       "    <tr>\n",
       "      <th>2</th>\n",
       "      <td>CH4</td>\n",
       "      <td>0.0</td>\n",
       "      <td>30.000000</td>\n",
       "      <td>1.005236</td>\n",
       "      <td>25.16</td>\n",
       "    </tr>\n",
       "    <tr>\n",
       "      <th>3</th>\n",
       "      <td>CH4</td>\n",
       "      <td>0.0</td>\n",
       "      <td>45.000000</td>\n",
       "      <td>1.006108</td>\n",
       "      <td>25.17</td>\n",
       "    </tr>\n",
       "    <tr>\n",
       "      <th>4</th>\n",
       "      <td>CH4</td>\n",
       "      <td>0.0</td>\n",
       "      <td>60.000000</td>\n",
       "      <td>1.007853</td>\n",
       "      <td>25.21</td>\n",
       "    </tr>\n",
       "  </tbody>\n",
       "</table>\n",
       "</div>"
      ],
      "text/plain": [
       "   Gas  Water_content  time_minutes  volume_ratio    IFT\n",
       "0  CH4            0.0      0.000050      1.000000  25.08\n",
       "1  CH4            0.0     14.998333      1.002618  25.12\n",
       "2  CH4            0.0     30.000000      1.005236  25.16\n",
       "3  CH4            0.0     45.000000      1.006108  25.17\n",
       "4  CH4            0.0     60.000000      1.007853  25.21"
      ]
     },
     "execution_count": 5,
     "metadata": {},
     "output_type": "execute_result"
    }
   ],
   "source": [
    "# let's explore the data\n",
    "ift_data.head()"
   ]
  },
  {
   "cell_type": "code",
   "execution_count": 7,
   "metadata": {},
   "outputs": [
    {
     "data": {
      "text/plain": [
       "<bound method DataFrame.info of      Gas  Water_content  time_minutes  volume_ratio    IFT\n",
       "0    CH4            0.0      0.000050      1.000000  25.08\n",
       "1    CH4            0.0     14.998333      1.002618  25.12\n",
       "2    CH4            0.0     30.000000      1.005236  25.16\n",
       "3    CH4            0.0     45.000000      1.006108  25.17\n",
       "4    CH4            0.0     60.000000      1.007853  25.21\n",
       "..   ...            ...           ...           ...    ...\n",
       "556  CO2            0.7    150.000000      0.978155  19.93\n",
       "557  CO2            0.7    165.000000      0.979369  19.95\n",
       "558  CO2            0.7    180.000000      0.974515  19.87\n",
       "559  CO2            0.7    195.000000      0.976942  19.92\n",
       "560  CO2            0.7    210.000000      0.973301  19.86\n",
       "\n",
       "[561 rows x 5 columns]>"
      ]
     },
     "execution_count": 7,
     "metadata": {},
     "output_type": "execute_result"
    }
   ],
   "source": [
    "# quick glmipse into the number of rows\n",
    "ift_data.info"
   ]
  },
  {
   "cell_type": "code",
   "execution_count": 16,
   "metadata": {},
   "outputs": [
    {
     "data": {
      "image/png": "[encoded data removed]",
      "text/plain": [
       "<Figure size 432x288 with 1 Axes>"
      ]
     },
     "metadata": {
      "needs_background": "light"
     },
     "output_type": "display_data"
    }
   ],
   "source": [
    "plt.scatter(ift_data['Water_content'],ift_data['IFT']);"
   ]
  },
  {
   "cell_type": "code",
   "execution_count": 18,
   "metadata": {},
   "outputs": [
    {
     "data": {
      "image/png": "[encoded data removed]",
      "text/plain": [
       "<Figure size 432x288 with 1 Axes>"
      ]
     },
     "metadata": {
      "needs_background": "light"
     },
     "output_type": "display_data"
    }
   ],
   "source": [
    "plt.scatter(ift_data['time_minutes'],ift_data['IFT']);"
   ]
  },
  {
   "cell_type": "code",
   "execution_count": 30,
   "metadata": {},
   "outputs": [
    {
     "data": {
      "text/html": [
       "\n",
       "<div id=\"altair-viz-b2e5ac8528a549589700ca546241ae77\"></div>\n",
       "<script type=\"text/javascript\">\n",
       "  (function(spec, embedOpt){\n",
       "    let outputDiv = document.currentScript.previousElementSibling;\n",
       "    if (outputDiv.id !== \"altair-viz-b2e5ac8528a549589700ca546241ae77\") {\n",
       "      outputDiv = document.getElementById(\"altair-viz-b2e5ac8528a549589700ca546241ae77\");\n",
       "    }\n",
       "    const paths = {\n",
       "      \"vega\": \"https://cdn.jsdelivr.net/npm//vega@5?noext\",\n",
       "      \"vega-lib\": \"https://cdn.jsdelivr.net/npm//vega-lib?noext\",\n",
       "      \"vega-lite\": \"https://cdn.jsdelivr.net/npm//vega-lite@4.8.1?noext\",\n",
       "      \"vega-embed\": \"https://cdn.jsdelivr.net/npm//vega-embed@6?noext\",\n",
       "    };\n",
       "\n",
       "    function loadScript(lib) {\n",
       "      return new Promise(function(resolve, reject) {\n",
       "        var s = document.createElement('script');\n",
       "        s.src = paths[lib];\n",
       "        s.async = true;\n",
       "        s.onload = () => resolve(paths[lib]);\n",
       "        s.onerror = () => reject(`Error loading script: ${paths[lib]}`);\n",
       "        document.getElementsByTagName(\"head\")[0].appendChild(s);\n",
       "      });\n",
       "    }\n",
       "\n",
       "    function showError(err) {\n",
       "      outputDiv.innerHTML = `<div class=\"error\" style=\"color:red;\">${err}</div>`;\n",
       "      throw err;\n",
       "    }\n",
       "\n",
       "    function displayChart(vegaEmbed) {\n",
       "      vegaEmbed(outputDiv, spec, embedOpt)\n",
       "        .catch(err => showError(`Javascript Error: ${err.message}<br>This usually means there's a typo in your chart specification. See the javascript console for the full traceback.`));\n",
       "    }\n",
       "\n",
       "    if(typeof define === \"function\" && define.amd) {\n",
       "      requirejs.config({paths});\n",
       "      require([\"vega-embed\"], displayChart, err => showError(`Error loading script: ${err.message}`));\n",
       "    } else if (typeof vegaEmbed === \"function\") {\n",
       "      displayChart(vegaEmbed);\n",
       "    } else {\n",
       "      loadScript(\"vega\")\n",
       "        .then(() => loadScript(\"vega-lite\"))\n",
       "        .then(() => loadScript(\"vega-embed\"))\n",
       "        .catch(showError)\n",
       "        .then(() => displayChart(vegaEmbed));\n",
       "    }\n",
       "  })({\"config\": {\"view\": {\"continuousWidth\": 400, \"continuousHeight\": 300}}, \"data\": {\"name\": \"data-5e3ffaa7e5be3c65654c979659429c40\"}, \"mark\": {\"type\": \"circle\", \"size\": 60}, \"encoding\": {\"color\": {\"type\": \"nominal\", \"field\": \"Gas\"}, \"x\": {\"type\": \"quantitative\", \"field\": \"time_minutes\", \"title\": \"Time\"}, \"y\": {\"type\": \"quantitative\", \"field\": \"IFT\"}}, \"selection\": {\"selector011\": {\"type\": \"interval\", \"bind\": \"scales\", \"encodings\": [\"x\", \"y\"]}}, \"title\": \"Change in IFT with water content over time for CH4 and CO2\", \"$schema\": \"https://vega.github.io/schema/vega-lite/v4.8.1.json\", \"datasets\": {\"data-5e3ffaa7e5be3c65654c979659429c40\": [{\"Gas\": \"CH4\", \"Water_content\": 0.0, \"time_minutes\": 5e-05, \"volume_ratio\": 1.0, \"IFT\": 25.08}, {\"Gas\": \"CH4\", \"Water_content\": 0.0, \"time_minutes\": 14.998333333333333, \"volume_ratio\": 1.0026178010471203, \"IFT\": 25.12}, {\"Gas\": \"CH4\", \"Water_content\": 0.0, \"time_minutes\": 30.0, \"volume_ratio\": 1.0052356020942408, \"IFT\": 25.16}, {\"Gas\": \"CH4\", \"Water_content\": 0.0, \"time_minutes\": 45.0, \"volume_ratio\": 1.0061082024432808, \"IFT\": 25.17}, {\"Gas\": \"CH4\", \"Water_content\": 0.0, \"time_minutes\": 60.0, \"volume_ratio\": 1.0078534031413613, \"IFT\": 25.21}, {\"Gas\": \"CH4\", \"Water_content\": 0.0, \"time_minutes\": 75.0, \"volume_ratio\": 1.0052356020942408, \"IFT\": 25.13}, {\"Gas\": \"CH4\", \"Water_content\": 0.0, \"time_minutes\": 90.0, \"volume_ratio\": 1.006980802792321, \"IFT\": 25.2}, {\"Gas\": \"CH4\", \"Water_content\": 0.0, \"time_minutes\": 105.0, \"volume_ratio\": 1.0043630017452005, \"IFT\": 25.15}, {\"Gas\": \"CH4\", \"Water_content\": 0.0, \"time_minutes\": 120.0, \"volume_ratio\": 1.0017452006980803, \"IFT\": 25.13}, {\"Gas\": \"CH4\", \"Water_content\": 0.0, \"time_minutes\": 135.0, \"volume_ratio\": 1.0, \"IFT\": 25.09}, {\"Gas\": \"CH4\", \"Water_content\": 0.0, \"time_minutes\": 150.0, \"volume_ratio\": 1.0034904013961605, \"IFT\": 25.25}, {\"Gas\": \"CH4\", \"Water_content\": 0.0, \"time_minutes\": 165.0, \"volume_ratio\": 0.9991273996509598, \"IFT\": 25.14}, {\"Gas\": \"CH4\", \"Water_content\": 0.0, \"time_minutes\": 180.0, \"volume_ratio\": 0.9956369982547992, \"IFT\": 25.07}, {\"Gas\": \"CH4\", \"Water_content\": 0.0, \"time_minutes\": 195.0, \"volume_ratio\": 0.9930191972076788, \"IFT\": 25.02}, {\"Gas\": \"CH4\", \"Water_content\": 0.0, \"time_minutes\": 210.0, \"volume_ratio\": 0.9886561954624781, \"IFT\": 24.89}, {\"Gas\": \"CH4\", \"Water_content\": 0.0, \"time_minutes\": 225.0, \"volume_ratio\": 0.9904013961605583, \"IFT\": 24.99}, {\"Gas\": \"CH4\", \"Water_content\": 0.0, \"time_minutes\": 240.0, \"volume_ratio\": 0.9886561954624781, \"IFT\": 24.92}, {\"Gas\": \"CH4\", \"Water_content\": 0.0, \"time_minutes\": 255.0, \"volume_ratio\": 0.9869109947643979, \"IFT\": 24.83}, {\"Gas\": \"CH4\", \"Water_content\": 0.0, \"time_minutes\": 270.0, \"volume_ratio\": 0.9895287958115182, \"IFT\": 24.89}, {\"Gas\": \"CH4\", \"Water_content\": 0.0, \"time_minutes\": 285.0, \"volume_ratio\": 0.9904013961605583, \"IFT\": 24.86}, {\"Gas\": \"CH4\", \"Water_content\": 0.0, \"time_minutes\": 300.0, \"volume_ratio\": 0.9930191972076788, \"IFT\": 24.9}, {\"Gas\": \"CH4\", \"Water_content\": 0.0, \"time_minutes\": 315.0, \"volume_ratio\": 0.9921465968586386, \"IFT\": 24.85}, {\"Gas\": \"CH4\", \"Water_content\": 0.0, \"time_minutes\": 330.0, \"volume_ratio\": 0.993891797556719, \"IFT\": 24.84}, {\"Gas\": \"CH4\", \"Water_content\": 0.0, \"time_minutes\": 345.0, \"volume_ratio\": 0.9947643979057591, \"IFT\": 24.82}, {\"Gas\": \"CH4\", \"Water_content\": 0.0, \"time_minutes\": 360.0, \"volume_ratio\": 0.9930191972076788, \"IFT\": 24.83}, {\"Gas\": \"CH4\", \"Water_content\": 0.0, \"time_minutes\": 375.0, \"volume_ratio\": 0.9895287958115182, \"IFT\": 24.75}, {\"Gas\": \"CH4\", \"Water_content\": 0.0, \"time_minutes\": 390.0, \"volume_ratio\": 0.9895287958115182, \"IFT\": 24.71}, {\"Gas\": \"CH4\", \"Water_content\": 0.0, \"time_minutes\": 405.0, \"volume_ratio\": 0.9895287958115182, \"IFT\": 24.71}, {\"Gas\": \"CH4\", \"Water_content\": 0.0, \"time_minutes\": 420.0, \"volume_ratio\": 0.9904013961605583, \"IFT\": 24.7}, {\"Gas\": \"CH4\", \"Water_content\": 0.0, \"time_minutes\": 435.0, \"volume_ratio\": 0.9904013961605583, \"IFT\": 24.68}, {\"Gas\": \"CH4\", \"Water_content\": 0.0, \"time_minutes\": 450.0, \"volume_ratio\": 0.9930191972076788, \"IFT\": 24.67}, {\"Gas\": \"CH4\", \"Water_content\": 0.0, \"time_minutes\": 465.0, \"volume_ratio\": 0.9921465968586386, \"IFT\": 24.64}, {\"Gas\": \"CH4\", \"Water_content\": 0.0, \"time_minutes\": 495.0, \"volume_ratio\": 0.9956369982547992, \"IFT\": 24.67}, {\"Gas\": \"CH4\", \"Water_content\": 0.0, \"time_minutes\": 510.0, \"volume_ratio\": 0.9947643979057591, \"IFT\": 24.59}, {\"Gas\": \"CH4\", \"Water_content\": 0.0, \"time_minutes\": 525.0, \"volume_ratio\": 0.9912739965095985, \"IFT\": 24.52}, {\"Gas\": \"CH4\", \"Water_content\": 0.0, \"time_minutes\": 540.0, \"volume_ratio\": 0.9912739965095985, \"IFT\": 24.55}, {\"Gas\": \"CH4\", \"Water_content\": 0.0, \"time_minutes\": 555.0, \"volume_ratio\": 0.9904013961605583, \"IFT\": 24.49}, {\"Gas\": \"CH4\", \"Water_content\": 0.0, \"time_minutes\": 570.0, \"volume_ratio\": 0.9912739965095985, \"IFT\": 24.49}, {\"Gas\": \"CH4\", \"Water_content\": 0.0, \"time_minutes\": 585.0, \"volume_ratio\": 0.9921465968586386, \"IFT\": 24.5}, {\"Gas\": \"CH4\", \"Water_content\": 0.0, \"time_minutes\": 600.0, \"volume_ratio\": 0.987783595113438, \"IFT\": 24.4}, {\"Gas\": \"CH4\", \"Water_content\": 0.0, \"time_minutes\": 630.0, \"volume_ratio\": 0.9912739965095985, \"IFT\": 24.4}, {\"Gas\": \"CH4\", \"Water_content\": 0.0, \"time_minutes\": 645.0, \"volume_ratio\": 0.993891797556719, \"IFT\": 24.36}, {\"Gas\": \"CH4\", \"Water_content\": 0.0, \"time_minutes\": 660.0, \"volume_ratio\": 0.9956369982547992, \"IFT\": 24.28}, {\"Gas\": \"CH4\", \"Water_content\": 0.0, \"time_minutes\": 675.0, \"volume_ratio\": 0.9982547993019196, \"IFT\": 24.27}, {\"Gas\": \"CH4\", \"Water_content\": 0.0, \"time_minutes\": 690.0, \"volume_ratio\": 1.0, \"IFT\": 24.24}, {\"Gas\": \"CH4\", \"Water_content\": 0.0, \"time_minutes\": 705.0, \"volume_ratio\": 1.00087260034904, \"IFT\": 24.22}, {\"Gas\": \"CH4\", \"Water_content\": 0.0, \"time_minutes\": 720.0, \"volume_ratio\": 1.00087260034904, \"IFT\": 24.19}, {\"Gas\": \"CH4\", \"Water_content\": 0.0, \"time_minutes\": 735.0, \"volume_ratio\": 1.00087260034904, \"IFT\": 24.15}, {\"Gas\": \"CH4\", \"Water_content\": 0.0, \"time_minutes\": 750.0, \"volume_ratio\": 1.0043630017452005, \"IFT\": 24.2}, {\"Gas\": \"CH4\", \"Water_content\": 0.0, \"time_minutes\": 765.0, \"volume_ratio\": 1.0026178010471203, \"IFT\": 24.15}, {\"Gas\": \"CH4\", \"Water_content\": 0.0, \"time_minutes\": 780.0, \"volume_ratio\": 0.9991273996509598, \"IFT\": 24.04}, {\"Gas\": \"CH4\", \"Water_content\": 0.0, \"time_minutes\": 795.0, \"volume_ratio\": 1.0, \"IFT\": 24.05}, {\"Gas\": \"CH4\", \"Water_content\": 0.0, \"time_minutes\": 870.0, \"volume_ratio\": 0.9947643979057591, \"IFT\": 23.89}, {\"Gas\": \"CH4\", \"Water_content\": 0.0, \"time_minutes\": 885.0, \"volume_ratio\": 0.9947643979057591, \"IFT\": 23.81}, {\"Gas\": \"CH4\", \"Water_content\": 0.0, \"time_minutes\": 900.0, \"volume_ratio\": 0.9947643979057591, \"IFT\": 23.76}, {\"Gas\": \"CH4\", \"Water_content\": 0.0, \"time_minutes\": 915.0, \"volume_ratio\": 0.9965095986038394, \"IFT\": 23.8}, {\"Gas\": \"CH4\", \"Water_content\": 0.0, \"time_minutes\": 930.0, \"volume_ratio\": 0.9973821989528795, \"IFT\": 23.8}, {\"Gas\": \"CH4\", \"Water_content\": 0.1, \"time_minutes\": 0.00018333333333333334, \"volume_ratio\": 1.0, \"IFT\": 24.3}, {\"Gas\": \"CH4\", \"Water_content\": 0.1, \"time_minutes\": 15.0, \"volume_ratio\": 0.999020568070519, \"IFT\": 24.74}, {\"Gas\": \"CH4\", \"Water_content\": 0.1, \"time_minutes\": 30.0, \"volume_ratio\": 0.9980411361410381, \"IFT\": 24.76}, {\"Gas\": \"CH4\", \"Water_content\": 0.1, \"time_minutes\": 45.0, \"volume_ratio\": 1.0019588638589618, \"IFT\": 24.74}, {\"Gas\": \"CH4\", \"Water_content\": 0.1, \"time_minutes\": 60.0, \"volume_ratio\": 1.009794319294809, \"IFT\": 24.76}, {\"Gas\": \"CH4\", \"Water_content\": 0.1, \"time_minutes\": 75.0, \"volume_ratio\": 1.0117531831537707, \"IFT\": 24.74}, {\"Gas\": \"CH4\", \"Water_content\": 0.1, \"time_minutes\": 90.0, \"volume_ratio\": 1.009794319294809, \"IFT\": 24.68}, {\"Gas\": \"CH4\", \"Water_content\": 0.1, \"time_minutes\": 105.0, \"volume_ratio\": 1.0068560235063662, \"IFT\": 24.66}, {\"Gas\": \"CH4\", \"Water_content\": 0.1, \"time_minutes\": 120.0, \"volume_ratio\": 1.0, \"IFT\": 24.57}, {\"Gas\": \"CH4\", \"Water_content\": 0.1, \"time_minutes\": 135.0, \"volume_ratio\": 0.9980411361410381, \"IFT\": 24.6}, {\"Gas\": \"CH4\", \"Water_content\": 0.1, \"time_minutes\": 150.0, \"volume_ratio\": 0.9941234084231145, \"IFT\": 24.5}, {\"Gas\": \"CH4\", \"Water_content\": 0.1, \"time_minutes\": 165.0, \"volume_ratio\": 0.9911851126346717, \"IFT\": 24.43}, {\"Gas\": \"CH4\", \"Water_content\": 0.1, \"time_minutes\": 180.0, \"volume_ratio\": 0.9902056807051909, \"IFT\": 24.48}, {\"Gas\": \"CH4\", \"Water_content\": 0.1, \"time_minutes\": 195.0, \"volume_ratio\": 0.9872673849167483, \"IFT\": 24.42}, {\"Gas\": \"CH4\", \"Water_content\": 0.1, \"time_minutes\": 210.0, \"volume_ratio\": 0.9853085210577864, \"IFT\": 24.34}, {\"Gas\": \"CH4\", \"Water_content\": 0.1, \"time_minutes\": 225.0, \"volume_ratio\": 0.9872673849167483, \"IFT\": 24.43}, {\"Gas\": \"CH4\", \"Water_content\": 0.1, \"time_minutes\": 240.0, \"volume_ratio\": 0.9843290891283055, \"IFT\": 24.34}, {\"Gas\": \"CH4\", \"Water_content\": 0.1, \"time_minutes\": 255.0, \"volume_ratio\": 0.9833496571988245, \"IFT\": 24.3}, {\"Gas\": \"CH4\", \"Water_content\": 0.1, \"time_minutes\": 270.0, \"volume_ratio\": 0.9813907933398628, \"IFT\": 24.31}, {\"Gas\": \"CH4\", \"Water_content\": 0.1, \"time_minutes\": 285.0, \"volume_ratio\": 0.9813907933398628, \"IFT\": 24.28}, {\"Gas\": \"CH4\", \"Water_content\": 0.1, \"time_minutes\": 300.0, \"volume_ratio\": 0.9784524975514202, \"IFT\": 24.18}, {\"Gas\": \"CH4\", \"Water_content\": 0.1, \"time_minutes\": 315.0, \"volume_ratio\": 0.9804113614103819, \"IFT\": 24.22}, {\"Gas\": \"CH4\", \"Water_content\": 0.1, \"time_minutes\": 330.0, \"volume_ratio\": 0.9774730656219393, \"IFT\": 24.18}, {\"Gas\": \"CH4\", \"Water_content\": 0.1, \"time_minutes\": 345.0, \"volume_ratio\": 0.9764936336924583, \"IFT\": 24.12}, {\"Gas\": \"CH4\", \"Water_content\": 0.1, \"time_minutes\": 360.0, \"volume_ratio\": 0.9784524975514202, \"IFT\": 24.09}, {\"Gas\": \"CH4\", \"Water_content\": 0.1, \"time_minutes\": 375.0, \"volume_ratio\": 0.9784524975514202, \"IFT\": 24.12}, {\"Gas\": \"CH4\", \"Water_content\": 0.1, \"time_minutes\": 390.0, \"volume_ratio\": 0.9745347698334964, \"IFT\": 23.98}, {\"Gas\": \"CH4\", \"Water_content\": 0.1, \"time_minutes\": 405.0, \"volume_ratio\": 0.9764936336924583, \"IFT\": 24.0}, {\"Gas\": \"CH4\", \"Water_content\": 0.1, \"time_minutes\": 420.0, \"volume_ratio\": 0.9755142017629774, \"IFT\": 23.93}, {\"Gas\": \"CH4\", \"Water_content\": 0.1, \"time_minutes\": 435.0, \"volume_ratio\": 0.9735553379040155, \"IFT\": 23.85}, {\"Gas\": \"CH4\", \"Water_content\": 0.1, \"time_minutes\": 450.0, \"volume_ratio\": 0.9725759059745347, \"IFT\": 23.81}, {\"Gas\": \"CH4\", \"Water_content\": 0.1, \"time_minutes\": 465.0, \"volume_ratio\": 0.9725759059745347, \"IFT\": 23.76}, {\"Gas\": \"CH4\", \"Water_content\": 0.1, \"time_minutes\": 480.0, \"volume_ratio\": 0.9745347698334964, \"IFT\": 23.82}, {\"Gas\": \"CH4\", \"Water_content\": 0.1, \"time_minutes\": 495.0, \"volume_ratio\": 0.9745347698334964, \"IFT\": 23.81}, {\"Gas\": \"CH4\", \"Water_content\": 0.1, \"time_minutes\": 510.0, \"volume_ratio\": 0.9715964740450538, \"IFT\": 23.7}, {\"Gas\": \"CH4\", \"Water_content\": 0.1, \"time_minutes\": 525.0, \"volume_ratio\": 0.9725759059745347, \"IFT\": 23.68}, {\"Gas\": \"CH4\", \"Water_content\": 0.1, \"time_minutes\": 540.0, \"volume_ratio\": 0.9725759059745347, \"IFT\": 23.65}, {\"Gas\": \"CH4\", \"Water_content\": 0.1, \"time_minutes\": 555.0, \"volume_ratio\": 0.9725759059745347, \"IFT\": 23.63}, {\"Gas\": \"CH4\", \"Water_content\": 0.1, \"time_minutes\": 570.0, \"volume_ratio\": 0.9686581782566112, \"IFT\": 23.51}, {\"Gas\": \"CH4\", \"Water_content\": 0.1, \"time_minutes\": 585.0, \"volume_ratio\": 0.9686581782566112, \"IFT\": 23.47}, {\"Gas\": \"CH4\", \"Water_content\": 0.1, \"time_minutes\": 600.0, \"volume_ratio\": 0.9686581782566112, \"IFT\": 23.45}, {\"Gas\": \"CH4\", \"Water_content\": 0.1, \"time_minutes\": 615.0, \"volume_ratio\": 0.9666993143976492, \"IFT\": 23.42}, {\"Gas\": \"CH4\", \"Water_content\": 0.1, \"time_minutes\": 630.0, \"volume_ratio\": 0.9637610186092066, \"IFT\": 23.36}, {\"Gas\": \"CH4\", \"Water_content\": 0.1, \"time_minutes\": 645.0, \"volume_ratio\": 0.9618021547502448, \"IFT\": 23.36}, {\"Gas\": \"CH4\", \"Water_content\": 0.1, \"time_minutes\": 660.0, \"volume_ratio\": 0.9618021547502448, \"IFT\": 23.37}, {\"Gas\": \"CH4\", \"Water_content\": 0.1, \"time_minutes\": 675.0, \"volume_ratio\": 0.960822722820764, \"IFT\": 23.29}, {\"Gas\": \"CH4\", \"Water_content\": 0.1, \"time_minutes\": 690.0, \"volume_ratio\": 0.9578844270323211, \"IFT\": 23.23}, {\"Gas\": \"CH4\", \"Water_content\": 0.1, \"time_minutes\": 705.0, \"volume_ratio\": 0.9569049951028402, \"IFT\": 23.2}, {\"Gas\": \"CH4\", \"Water_content\": 0.1, \"time_minutes\": 720.0, \"volume_ratio\": 0.9549461312438785, \"IFT\": 23.13}, {\"Gas\": \"CH4\", \"Water_content\": 0.1, \"time_minutes\": 735.0, \"volume_ratio\": 0.9559255631733593, \"IFT\": 23.13}, {\"Gas\": \"CH4\", \"Water_content\": 0.1, \"time_minutes\": 750.0, \"volume_ratio\": 0.9569049951028402, \"IFT\": 23.13}, {\"Gas\": \"CH4\", \"Water_content\": 0.1, \"time_minutes\": 765.0, \"volume_ratio\": 0.9549461312438785, \"IFT\": 23.04}, {\"Gas\": \"CH4\", \"Water_content\": 0.1, \"time_minutes\": 780.0, \"volume_ratio\": 0.9569049951028402, \"IFT\": 23.03}, {\"Gas\": \"CH4\", \"Water_content\": 0.1, \"time_minutes\": 795.0, \"volume_ratio\": 0.9598432908912831, \"IFT\": 23.02}, {\"Gas\": \"CH4\", \"Water_content\": 0.1, \"time_minutes\": 810.0, \"volume_ratio\": 0.958863858961802, \"IFT\": 22.94}, {\"Gas\": \"CH4\", \"Water_content\": 0.1, \"time_minutes\": 825.0, \"volume_ratio\": 0.960822722820764, \"IFT\": 22.93}, {\"Gas\": \"CH4\", \"Water_content\": 0.1, \"time_minutes\": 840.0, \"volume_ratio\": 0.960822722820764, \"IFT\": 22.94}, {\"Gas\": \"CH4\", \"Water_content\": 0.1, \"time_minutes\": 855.0, \"volume_ratio\": 0.960822722820764, \"IFT\": 22.92}, {\"Gas\": \"CH4\", \"Water_content\": 0.1, \"time_minutes\": 870.0, \"volume_ratio\": 0.9598432908912831, \"IFT\": 22.88}, {\"Gas\": \"CH4\", \"Water_content\": 0.1, \"time_minutes\": 885.0, \"volume_ratio\": 0.9529872673849167, \"IFT\": 22.77}, {\"Gas\": \"CH4\", \"Water_content\": 0.1, \"time_minutes\": 900.0, \"volume_ratio\": 0.9539666993143976, \"IFT\": 22.78}, {\"Gas\": \"CH4\", \"Water_content\": 0.1, \"time_minutes\": 915.0, \"volume_ratio\": 0.949069539666993, \"IFT\": 22.67}, {\"Gas\": \"CH4\", \"Water_content\": 0.1, \"time_minutes\": 930.0, \"volume_ratio\": 0.9480901077375121, \"IFT\": 22.66}, {\"Gas\": \"CH4\", \"Water_content\": 0.2, \"time_minutes\": 0.000166666666666667, \"volume_ratio\": 1.0, \"IFT\": 24.0}, {\"Gas\": \"CH4\", \"Water_content\": 0.2, \"time_minutes\": 14.998333333333333, \"volume_ratio\": 1.0065481758652948, \"IFT\": 24.52}, {\"Gas\": \"CH4\", \"Water_content\": 0.2, \"time_minutes\": 30.0, \"volume_ratio\": 1.0065481758652948, \"IFT\": 24.51}, {\"Gas\": \"CH4\", \"Water_content\": 0.2, \"time_minutes\": 45.0, \"volume_ratio\": 1.0065481758652948, \"IFT\": 24.56}, {\"Gas\": \"CH4\", \"Water_content\": 0.2, \"time_minutes\": 60.0, \"volume_ratio\": 1.0065481758652948, \"IFT\": 24.55}, {\"Gas\": \"CH4\", \"Water_content\": 0.2, \"time_minutes\": 75.0, \"volume_ratio\": 1.0046772684752105, \"IFT\": 24.51}, {\"Gas\": \"CH4\", \"Water_content\": 0.2, \"time_minutes\": 90.0, \"volume_ratio\": 1.0037418147801684, \"IFT\": 24.48}, {\"Gas\": \"CH4\", \"Water_content\": 0.2, \"time_minutes\": 105.0, \"volume_ratio\": 1.0037418147801684, \"IFT\": 24.5}, {\"Gas\": \"CH4\", \"Water_content\": 0.2, \"time_minutes\": 120.0, \"volume_ratio\": 1.0018709073900842, \"IFT\": 24.48}, {\"Gas\": \"CH4\", \"Water_content\": 0.2, \"time_minutes\": 135.0, \"volume_ratio\": 1.0018709073900842, \"IFT\": 24.5}, {\"Gas\": \"CH4\", \"Water_content\": 0.2, \"time_minutes\": 150.0, \"volume_ratio\": 1.0, \"IFT\": 24.44}, {\"Gas\": \"CH4\", \"Water_content\": 0.2, \"time_minutes\": 165.0, \"volume_ratio\": 1.0, \"IFT\": 24.47}, {\"Gas\": \"CH4\", \"Water_content\": 0.2, \"time_minutes\": 180.0, \"volume_ratio\": 1.000935453695042, \"IFT\": 24.48}, {\"Gas\": \"CH4\", \"Water_content\": 0.2, \"time_minutes\": 195.0, \"volume_ratio\": 1.0, \"IFT\": 24.46}, {\"Gas\": \"CH4\", \"Water_content\": 0.2, \"time_minutes\": 210.0, \"volume_ratio\": 0.9990645463049579, \"IFT\": 24.44}, {\"Gas\": \"CH4\", \"Water_content\": 0.2, \"time_minutes\": 225.0, \"volume_ratio\": 0.9981290926099159, \"IFT\": 24.43}, {\"Gas\": \"CH4\", \"Water_content\": 0.2, \"time_minutes\": 240.0, \"volume_ratio\": 0.9971936389148738, \"IFT\": 24.42}, {\"Gas\": \"CH4\", \"Water_content\": 0.2, \"time_minutes\": 255.0, \"volume_ratio\": 0.9953227315247897, \"IFT\": 24.43}, {\"Gas\": \"CH4\", \"Water_content\": 0.2, \"time_minutes\": 270.0, \"volume_ratio\": 0.9915809167446211, \"IFT\": 24.39}, {\"Gas\": \"CH4\", \"Water_content\": 0.2, \"time_minutes\": 285.0, \"volume_ratio\": 0.9887745556594949, \"IFT\": 24.32}, {\"Gas\": \"CH4\", \"Water_content\": 0.2, \"time_minutes\": 300.0, \"volume_ratio\": 0.9878391019644529, \"IFT\": 24.37}, {\"Gas\": \"CH4\", \"Water_content\": 0.2, \"time_minutes\": 315.0, \"volume_ratio\": 0.9906454630495791, \"IFT\": 24.49}, {\"Gas\": \"CH4\", \"Water_content\": 0.2, \"time_minutes\": 330.0, \"volume_ratio\": 0.9887745556594949, \"IFT\": 24.44}, {\"Gas\": \"CH4\", \"Water_content\": 0.2, \"time_minutes\": 345.0, \"volume_ratio\": 0.9859681945743686, \"IFT\": 24.36}, {\"Gas\": \"CH4\", \"Water_content\": 0.2, \"time_minutes\": 360.0, \"volume_ratio\": 0.9859681945743686, \"IFT\": 24.37}, {\"Gas\": \"CH4\", \"Water_content\": 0.2, \"time_minutes\": 375.0, \"volume_ratio\": 0.9869036482694108, \"IFT\": 24.42}, {\"Gas\": \"CH4\", \"Water_content\": 0.2, \"time_minutes\": 390.0, \"volume_ratio\": 0.9878391019644529, \"IFT\": 24.45}, {\"Gas\": \"CH4\", \"Water_content\": 0.2, \"time_minutes\": 405.0, \"volume_ratio\": 0.9850327408793265, \"IFT\": 24.35}, {\"Gas\": \"CH4\", \"Water_content\": 0.2, \"time_minutes\": 420.0, \"volume_ratio\": 0.9869036482694108, \"IFT\": 24.41}, {\"Gas\": \"CH4\", \"Water_content\": 0.2, \"time_minutes\": 435.0, \"volume_ratio\": 0.9878391019644529, \"IFT\": 24.44}, {\"Gas\": \"CH4\", \"Water_content\": 0.2, \"time_minutes\": 450.0, \"volume_ratio\": 0.9869036482694108, \"IFT\": 24.4}, {\"Gas\": \"CH4\", \"Water_content\": 0.2, \"time_minutes\": 465.0, \"volume_ratio\": 0.9878391019644529, \"IFT\": 24.44}, {\"Gas\": \"CH4\", \"Water_content\": 0.2, \"time_minutes\": 480.0, \"volume_ratio\": 0.9859681945743686, \"IFT\": 24.36}, {\"Gas\": \"CH4\", \"Water_content\": 0.2, \"time_minutes\": 495.0, \"volume_ratio\": 0.9906454630495791, \"IFT\": 24.51}, {\"Gas\": \"CH4\", \"Water_content\": 0.2, \"time_minutes\": 510.0, \"volume_ratio\": 0.9869036482694108, \"IFT\": 24.43}, {\"Gas\": \"CH4\", \"Water_content\": 0.2, \"time_minutes\": 525.0, \"volume_ratio\": 0.9878391019644529, \"IFT\": 24.46}, {\"Gas\": \"CH4\", \"Water_content\": 0.2, \"time_minutes\": 540.0, \"volume_ratio\": 0.9840972871842844, \"IFT\": 24.4}, {\"Gas\": \"CH4\", \"Water_content\": 0.2, \"time_minutes\": 555.0, \"volume_ratio\": 0.9822263797942002, \"IFT\": 24.38}, {\"Gas\": \"CH4\", \"Water_content\": 0.2, \"time_minutes\": 570.0, \"volume_ratio\": 0.9831618334892424, \"IFT\": 24.44}, {\"Gas\": \"CH4\", \"Water_content\": 0.2, \"time_minutes\": 585.0, \"volume_ratio\": 0.9812909260991581, \"IFT\": 24.38}, {\"Gas\": \"CH4\", \"Water_content\": 0.2, \"time_minutes\": 600.0, \"volume_ratio\": 0.9812909260991581, \"IFT\": 24.41}, {\"Gas\": \"CH4\", \"Water_content\": 0.2, \"time_minutes\": 615.0, \"volume_ratio\": 0.9803554724041161, \"IFT\": 24.37}, {\"Gas\": \"CH4\", \"Water_content\": 0.2, \"time_minutes\": 630.0, \"volume_ratio\": 0.9812909260991581, \"IFT\": 24.41}, {\"Gas\": \"CH4\", \"Water_content\": 0.2, \"time_minutes\": 645.0, \"volume_ratio\": 0.9803554724041161, \"IFT\": 24.36}, {\"Gas\": \"CH4\", \"Water_content\": 0.2, \"time_minutes\": 660.0, \"volume_ratio\": 0.9822263797942002, \"IFT\": 24.44}, {\"Gas\": \"CH4\", \"Water_content\": 0.2, \"time_minutes\": 675.0, \"volume_ratio\": 0.9831618334892424, \"IFT\": 24.44}, {\"Gas\": \"CH4\", \"Water_content\": 0.2, \"time_minutes\": 690.0, \"volume_ratio\": 0.9840972871842844, \"IFT\": 24.41}, {\"Gas\": \"CH4\", \"Water_content\": 0.2, \"time_minutes\": 705.0, \"volume_ratio\": 0.9850327408793265, \"IFT\": 24.43}, {\"Gas\": \"CH4\", \"Water_content\": 0.2, \"time_minutes\": 720.0, \"volume_ratio\": 0.9869036482694108, \"IFT\": 24.46}, {\"Gas\": \"CH4\", \"Water_content\": 0.2, \"time_minutes\": 735.0, \"volume_ratio\": 0.9869036482694108, \"IFT\": 24.47}, {\"Gas\": \"CH4\", \"Water_content\": 0.2, \"time_minutes\": 750.0, \"volume_ratio\": 0.9850327408793265, \"IFT\": 24.41}, {\"Gas\": \"CH4\", \"Water_content\": 0.2, \"time_minutes\": 765.0, \"volume_ratio\": 0.9859681945743686, \"IFT\": 24.45}, {\"Gas\": \"CH4\", \"Water_content\": 0.2, \"time_minutes\": 780.0, \"volume_ratio\": 0.9840972871842844, \"IFT\": 24.42}, {\"Gas\": \"CH4\", \"Water_content\": 0.2, \"time_minutes\": 795.0, \"volume_ratio\": 0.9859681945743686, \"IFT\": 24.47}, {\"Gas\": \"CH4\", \"Water_content\": 0.2, \"time_minutes\": 810.0, \"volume_ratio\": 0.9859681945743686, \"IFT\": 24.5}, {\"Gas\": \"CH4\", \"Water_content\": 0.2, \"time_minutes\": 825.0, \"volume_ratio\": 0.9840972871842844, \"IFT\": 24.47}, {\"Gas\": \"CH4\", \"Water_content\": 0.2, \"time_minutes\": 840.0, \"volume_ratio\": 0.979420018709074, \"IFT\": 24.4}, {\"Gas\": \"CH4\", \"Water_content\": 0.2, \"time_minutes\": 855.0, \"volume_ratio\": 0.979420018709074, \"IFT\": 24.46}, {\"Gas\": \"CH4\", \"Water_content\": 0.2, \"time_minutes\": 870.0, \"volume_ratio\": 0.9766136576239476, \"IFT\": 24.39}, {\"Gas\": \"CH4\", \"Water_content\": 0.2, \"time_minutes\": 885.0, \"volume_ratio\": 0.9784845650140319, \"IFT\": 24.5}, {\"Gas\": \"CH4\", \"Water_content\": 0.2, \"time_minutes\": 900.0, \"volume_ratio\": 0.979420018709074, \"IFT\": 24.49}, {\"Gas\": \"CH4\", \"Water_content\": 0.2, \"time_minutes\": 915.0, \"volume_ratio\": 0.9803554724041161, \"IFT\": 24.54}, {\"Gas\": \"CH4\", \"Water_content\": 0.2, \"time_minutes\": 930.0, \"volume_ratio\": 0.979420018709074, \"IFT\": 24.49}, {\"Gas\": \"CH4\", \"Water_content\": 0.33, \"time_minutes\": 0.0002, \"volume_ratio\": 1.0, \"IFT\": 23.79}, {\"Gas\": \"CH4\", \"Water_content\": 0.33, \"time_minutes\": 30.0, \"volume_ratio\": 1.004004004004004, \"IFT\": 24.31}, {\"Gas\": \"CH4\", \"Water_content\": 0.33, \"time_minutes\": 60.0, \"volume_ratio\": 1.004004004004004, \"IFT\": 24.34}, {\"Gas\": \"CH4\", \"Water_content\": 0.33, \"time_minutes\": 90.0, \"volume_ratio\": 1.001001001001001, \"IFT\": 24.34}, {\"Gas\": \"CH4\", \"Water_content\": 0.33, \"time_minutes\": 120.0, \"volume_ratio\": 1.002002002002002, \"IFT\": 24.36}, {\"Gas\": \"CH4\", \"Water_content\": 0.33, \"time_minutes\": 150.0, \"volume_ratio\": 0.9969969969969971, \"IFT\": 24.27}, {\"Gas\": \"CH4\", \"Water_content\": 0.33, \"time_minutes\": 180.0, \"volume_ratio\": 0.991991991991992, \"IFT\": 24.19}, {\"Gas\": \"CH4\", \"Water_content\": 0.33, \"time_minutes\": 210.0, \"volume_ratio\": 0.990990990990991, \"IFT\": 24.19}, {\"Gas\": \"CH4\", \"Water_content\": 0.33, \"time_minutes\": 240.0, \"volume_ratio\": 0.990990990990991, \"IFT\": 24.27}, {\"Gas\": \"CH4\", \"Water_content\": 0.33, \"time_minutes\": 270.0, \"volume_ratio\": 0.988988988988989, \"IFT\": 24.2}, {\"Gas\": \"CH4\", \"Water_content\": 0.33, \"time_minutes\": 300.0, \"volume_ratio\": 0.985985985985986, \"IFT\": 24.0}, {\"Gas\": \"CH4\", \"Water_content\": 0.33, \"time_minutes\": 330.0, \"volume_ratio\": 0.9809809809809811, \"IFT\": 23.92}, {\"Gas\": \"CH4\", \"Water_content\": 0.33, \"time_minutes\": 360.0, \"volume_ratio\": 0.984984984984985, \"IFT\": 23.93}, {\"Gas\": \"CH4\", \"Water_content\": 0.33, \"time_minutes\": 390.0, \"volume_ratio\": 0.9929929929929929, \"IFT\": 24.02}, {\"Gas\": \"CH4\", \"Water_content\": 0.33, \"time_minutes\": 420.0, \"volume_ratio\": 0.988988988988989, \"IFT\": 23.85}, {\"Gas\": \"CH4\", \"Water_content\": 0.33, \"time_minutes\": 450.0, \"volume_ratio\": 0.986986986986987, \"IFT\": 23.86}, {\"Gas\": \"CH4\", \"Water_content\": 0.33, \"time_minutes\": 480.0, \"volume_ratio\": 0.981981981981982, \"IFT\": 23.84}, {\"Gas\": \"CH4\", \"Water_content\": 0.33, \"time_minutes\": 510.0, \"volume_ratio\": 0.975975975975976, \"IFT\": 23.85}, {\"Gas\": \"CH4\", \"Water_content\": 0.33, \"time_minutes\": 540.0, \"volume_ratio\": 0.972972972972973, \"IFT\": 23.91}, {\"Gas\": \"CH4\", \"Water_content\": 0.33, \"time_minutes\": 570.0, \"volume_ratio\": 0.9699699699699699, \"IFT\": 23.89}, {\"Gas\": \"CH4\", \"Water_content\": 0.33, \"time_minutes\": 600.0, \"volume_ratio\": 0.965965965965966, \"IFT\": 23.75}, {\"Gas\": \"CH4\", \"Water_content\": 0.33, \"time_minutes\": 630.0, \"volume_ratio\": 0.973973973973974, \"IFT\": 23.87}, {\"Gas\": \"CH4\", \"Water_content\": 0.33, \"time_minutes\": 660.0, \"volume_ratio\": 0.974974974974975, \"IFT\": 23.78}, {\"Gas\": \"CH4\", \"Water_content\": 0.33, \"time_minutes\": 690.0, \"volume_ratio\": 0.974974974974975, \"IFT\": 23.73}, {\"Gas\": \"CH4\", \"Water_content\": 0.33, \"time_minutes\": 720.0, \"volume_ratio\": 0.9799799799799799, \"IFT\": 23.85}, {\"Gas\": \"CH4\", \"Water_content\": 0.33, \"time_minutes\": 750.0, \"volume_ratio\": 0.973973973973974, \"IFT\": 23.67}, {\"Gas\": \"CH4\", \"Water_content\": 0.33, \"time_minutes\": 780.0, \"volume_ratio\": 0.971971971971972, \"IFT\": 23.7}, {\"Gas\": \"CH4\", \"Water_content\": 0.33, \"time_minutes\": 810.0, \"volume_ratio\": 0.9669669669669669, \"IFT\": 23.65}, {\"Gas\": \"CH4\", \"Water_content\": 0.33, \"time_minutes\": 840.0, \"volume_ratio\": 0.965965965965966, \"IFT\": 23.72}, {\"Gas\": \"CH4\", \"Water_content\": 0.33, \"time_minutes\": 870.0, \"volume_ratio\": 0.964964964964965, \"IFT\": 23.71}, {\"Gas\": \"CH4\", \"Water_content\": 0.33, \"time_minutes\": 900.0, \"volume_ratio\": 0.9689689689689689, \"IFT\": 23.78}, {\"Gas\": \"CH4\", \"Water_content\": 0.33, \"time_minutes\": 930.0, \"volume_ratio\": 0.971971971971972, \"IFT\": 23.78}, {\"Gas\": \"CH4\", \"Water_content\": 0.45, \"time_minutes\": 0.00016666666666666666, \"volume_ratio\": 1.0, \"IFT\": 24.07}, {\"Gas\": \"CH4\", \"Water_content\": 0.45, \"time_minutes\": 14.998333333333333, \"volume_ratio\": 1.0056764427625355, \"IFT\": 24.54}, {\"Gas\": \"CH4\", \"Water_content\": 0.45, \"time_minutes\": 30.0, \"volume_ratio\": 0.9971617786187321, \"IFT\": 24.47}, {\"Gas\": \"CH4\", \"Water_content\": 0.45, \"time_minutes\": 45.0, \"volume_ratio\": 0.9962157048249762, \"IFT\": 24.38}, {\"Gas\": \"CH4\", \"Water_content\": 0.45, \"time_minutes\": 60.0, \"volume_ratio\": 0.9943235572374645, \"IFT\": 24.32}, {\"Gas\": \"CH4\", \"Water_content\": 0.45, \"time_minutes\": 75.0, \"volume_ratio\": 0.9924314096499527, \"IFT\": 24.28}, {\"Gas\": \"CH4\", \"Water_content\": 0.45, \"time_minutes\": 90.0, \"volume_ratio\": 0.9905392620624409, \"IFT\": 24.19}, {\"Gas\": \"CH4\", \"Water_content\": 0.45, \"time_minutes\": 105.0, \"volume_ratio\": 0.9943235572374645, \"IFT\": 24.19}, {\"Gas\": \"CH4\", \"Water_content\": 0.45, \"time_minutes\": 120.0, \"volume_ratio\": 0.9933774834437086, \"IFT\": 24.1}, {\"Gas\": \"CH4\", \"Water_content\": 0.45, \"time_minutes\": 135.0, \"volume_ratio\": 0.9933774834437086, \"IFT\": 24.06}, {\"Gas\": \"CH4\", \"Water_content\": 0.45, \"time_minutes\": 150.0, \"volume_ratio\": 0.9905392620624409, \"IFT\": 23.95}, {\"Gas\": \"CH4\", \"Water_content\": 0.45, \"time_minutes\": 165.0, \"volume_ratio\": 0.9867549668874172, \"IFT\": 23.82}, {\"Gas\": \"CH4\", \"Water_content\": 0.45, \"time_minutes\": 180.0, \"volume_ratio\": 0.9820245979186377, \"IFT\": 23.72}, {\"Gas\": \"CH4\", \"Water_content\": 0.45, \"time_minutes\": 195.0, \"volume_ratio\": 0.9801324503311257, \"IFT\": 23.58}, {\"Gas\": \"CH4\", \"Water_content\": 0.45, \"time_minutes\": 210.0, \"volume_ratio\": 0.9801324503311257, \"IFT\": 23.56}, {\"Gas\": \"CH4\", \"Water_content\": 0.45, \"time_minutes\": 225.0, \"volume_ratio\": 0.9801324503311257, \"IFT\": 23.51}, {\"Gas\": \"CH4\", \"Water_content\": 0.45, \"time_minutes\": 240.0, \"volume_ratio\": 0.978240302743614, \"IFT\": 23.32}, {\"Gas\": \"CH4\", \"Water_content\": 0.45, \"time_minutes\": 255.0, \"volume_ratio\": 0.9791863765373698, \"IFT\": 23.25}, {\"Gas\": \"CH4\", \"Water_content\": 0.45, \"time_minutes\": 270.0, \"volume_ratio\": 0.9810785241248816, \"IFT\": 23.22}, {\"Gas\": \"CH4\", \"Water_content\": 0.45, \"time_minutes\": 285.0, \"volume_ratio\": 0.9858088930936613, \"IFT\": 23.23}, {\"Gas\": \"CH4\", \"Water_content\": 0.45, \"time_minutes\": 300.0, \"volume_ratio\": 0.9839167455061495, \"IFT\": 23.11}, {\"Gas\": \"CH4\", \"Water_content\": 0.45, \"time_minutes\": 315.0, \"volume_ratio\": 0.9839167455061495, \"IFT\": 23.05}, {\"Gas\": \"CH4\", \"Water_content\": 0.45, \"time_minutes\": 330.0, \"volume_ratio\": 0.9839167455061495, \"IFT\": 23.0}, {\"Gas\": \"CH4\", \"Water_content\": 0.45, \"time_minutes\": 345.0, \"volume_ratio\": 0.9839167455061495, \"IFT\": 22.96}, {\"Gas\": \"CH4\", \"Water_content\": 0.45, \"time_minutes\": 360.0, \"volume_ratio\": 0.9810785241248816, \"IFT\": 22.86}, {\"Gas\": \"CH4\", \"Water_content\": 0.45, \"time_minutes\": 375.0, \"volume_ratio\": 0.9791863765373698, \"IFT\": 22.85}, {\"Gas\": \"CH4\", \"Water_content\": 0.45, \"time_minutes\": 390.0, \"volume_ratio\": 0.978240302743614, \"IFT\": 22.75}, {\"Gas\": \"CH4\", \"Water_content\": 0.45, \"time_minutes\": 405.0, \"volume_ratio\": 0.9810785241248816, \"IFT\": 22.83}, {\"Gas\": \"CH4\", \"Water_content\": 0.45, \"time_minutes\": 420.0, \"volume_ratio\": 0.978240302743614, \"IFT\": 22.74}, {\"Gas\": \"CH4\", \"Water_content\": 0.45, \"time_minutes\": 435.0, \"volume_ratio\": 0.9735099337748343, \"IFT\": 22.63}, {\"Gas\": \"CH4\", \"Water_content\": 0.45, \"time_minutes\": 450.0, \"volume_ratio\": 0.9744560075685904, \"IFT\": 22.64}, {\"Gas\": \"CH4\", \"Water_content\": 0.45, \"time_minutes\": 465.0, \"volume_ratio\": 0.9697256385998108, \"IFT\": 22.51}, {\"Gas\": \"CH4\", \"Water_content\": 0.45, \"time_minutes\": 480.0, \"volume_ratio\": 0.9687795648060549, \"IFT\": 22.48}, {\"Gas\": \"CH4\", \"Water_content\": 0.45, \"time_minutes\": 495.0, \"volume_ratio\": 0.9659413434247872, \"IFT\": 22.39}, {\"Gas\": \"CH4\", \"Water_content\": 0.45, \"time_minutes\": 510.0, \"volume_ratio\": 0.9659413434247872, \"IFT\": 22.35}, {\"Gas\": \"CH4\", \"Water_content\": 0.45, \"time_minutes\": 525.0, \"volume_ratio\": 0.967833491012299, \"IFT\": 22.36}, {\"Gas\": \"CH4\", \"Water_content\": 0.45, \"time_minutes\": 540.0, \"volume_ratio\": 0.9687795648060549, \"IFT\": 22.34}, {\"Gas\": \"CH4\", \"Water_content\": 0.45, \"time_minutes\": 555.0, \"volume_ratio\": 0.9659413434247872, \"IFT\": 22.26}, {\"Gas\": \"CH4\", \"Water_content\": 0.45, \"time_minutes\": 570.0, \"volume_ratio\": 0.9697256385998108, \"IFT\": 22.29}, {\"Gas\": \"CH4\", \"Water_content\": 0.45, \"time_minutes\": 585.0, \"volume_ratio\": 0.9697256385998108, \"IFT\": 22.23}, {\"Gas\": \"CH4\", \"Water_content\": 0.45, \"time_minutes\": 600.0, \"volume_ratio\": 0.9716177861873225, \"IFT\": 22.26}, {\"Gas\": \"CH4\", \"Water_content\": 0.45, \"time_minutes\": 615.0, \"volume_ratio\": 0.9725638599810784, \"IFT\": 22.31}, {\"Gas\": \"CH4\", \"Water_content\": 0.45, \"time_minutes\": 630.0, \"volume_ratio\": 0.9687795648060549, \"IFT\": 22.27}, {\"Gas\": \"CH4\", \"Water_content\": 0.45, \"time_minutes\": 645.0, \"volume_ratio\": 0.967833491012299, \"IFT\": 22.23}, {\"Gas\": \"CH4\", \"Water_content\": 0.45, \"time_minutes\": 660.0, \"volume_ratio\": 0.9668874172185431, \"IFT\": 22.19}, {\"Gas\": \"CH4\", \"Water_content\": 0.45, \"time_minutes\": 675.0, \"volume_ratio\": 0.9621570482497634, \"IFT\": 22.1}, {\"Gas\": \"CH4\", \"Water_content\": 0.45, \"time_minutes\": 690.0, \"volume_ratio\": 0.9640491958372752, \"IFT\": 22.14}, {\"Gas\": \"CH4\", \"Water_content\": 0.45, \"time_minutes\": 705.0, \"volume_ratio\": 0.9583727530747399, \"IFT\": 22.04}, {\"Gas\": \"CH4\", \"Water_content\": 0.45, \"time_minutes\": 720.0, \"volume_ratio\": 0.9583727530747399, \"IFT\": 22.03}, {\"Gas\": \"CH4\", \"Water_content\": 0.45, \"time_minutes\": 735.0, \"volume_ratio\": 0.9583727530747399, \"IFT\": 22.01}, {\"Gas\": \"CH4\", \"Water_content\": 0.45, \"time_minutes\": 750.0, \"volume_ratio\": 0.9593188268684958, \"IFT\": 21.99}, {\"Gas\": \"CH4\", \"Water_content\": 0.45, \"time_minutes\": 765.0, \"volume_ratio\": 0.9602649006622517, \"IFT\": 21.96}, {\"Gas\": \"CH4\", \"Water_content\": 0.45, \"time_minutes\": 780.0, \"volume_ratio\": 0.9612109744560076, \"IFT\": 21.96}, {\"Gas\": \"CH4\", \"Water_content\": 0.45, \"time_minutes\": 795.0, \"volume_ratio\": 0.9621570482497634, \"IFT\": 21.96}, {\"Gas\": \"CH4\", \"Water_content\": 0.45, \"time_minutes\": 810.0, \"volume_ratio\": 0.9640491958372752, \"IFT\": 21.95}, {\"Gas\": \"CH4\", \"Water_content\": 0.5, \"time_minutes\": 0.00013333333333333334, \"volume_ratio\": 1.0, \"IFT\": 24.42}, {\"Gas\": \"CH4\", \"Water_content\": 0.5, \"time_minutes\": 14.998333333333333, \"volume_ratio\": 1.0, \"IFT\": 24.74}, {\"Gas\": \"CH4\", \"Water_content\": 0.5, \"time_minutes\": 30.0, \"volume_ratio\": 0.99800796812749, \"IFT\": 24.85}, {\"Gas\": \"CH4\", \"Water_content\": 0.5, \"time_minutes\": 45.0, \"volume_ratio\": 0.9930278884462153, \"IFT\": 24.75}, {\"Gas\": \"CH4\", \"Water_content\": 0.5, \"time_minutes\": 60.0, \"volume_ratio\": 0.9930278884462153, \"IFT\": 24.83}, {\"Gas\": \"CH4\", \"Water_content\": 0.5, \"time_minutes\": 75.0, \"volume_ratio\": 0.9860557768924304, \"IFT\": 24.74}, {\"Gas\": \"CH4\", \"Water_content\": 0.5, \"time_minutes\": 90.0, \"volume_ratio\": 0.9850597609561754, \"IFT\": 24.76}, {\"Gas\": \"CH4\", \"Water_content\": 0.5, \"time_minutes\": 105.0, \"volume_ratio\": 0.9830677290836654, \"IFT\": 24.75}, {\"Gas\": \"CH4\", \"Water_content\": 0.5, \"time_minutes\": 120.0, \"volume_ratio\": 0.9830677290836654, \"IFT\": 24.78}, {\"Gas\": \"CH4\", \"Water_content\": 0.5, \"time_minutes\": 135.0, \"volume_ratio\": 0.9790836653386455, \"IFT\": 24.71}, {\"Gas\": \"CH4\", \"Water_content\": 0.5, \"time_minutes\": 150.0, \"volume_ratio\": 0.9810756972111554, \"IFT\": 24.79}, {\"Gas\": \"CH4\", \"Water_content\": 0.5, \"time_minutes\": 165.0, \"volume_ratio\": 0.9800796812749004, \"IFT\": 24.74}, {\"Gas\": \"CH4\", \"Water_content\": 0.5, \"time_minutes\": 180.0, \"volume_ratio\": 0.9790836653386455, \"IFT\": 24.72}, {\"Gas\": \"CH4\", \"Water_content\": 0.5, \"time_minutes\": 195.0, \"volume_ratio\": 0.9830677290836654, \"IFT\": 24.76}, {\"Gas\": \"CH4\", \"Water_content\": 0.5, \"time_minutes\": 210.0, \"volume_ratio\": 0.9860557768924304, \"IFT\": 24.86}, {\"Gas\": \"CH4\", \"Water_content\": 0.5, \"time_minutes\": 225.0, \"volume_ratio\": 0.9860557768924304, \"IFT\": 24.8}, {\"Gas\": \"CH4\", \"Water_content\": 0.5, \"time_minutes\": 240.0, \"volume_ratio\": 0.9840637450199204, \"IFT\": 24.75}, {\"Gas\": \"CH4\", \"Water_content\": 0.5, \"time_minutes\": 255.0, \"volume_ratio\": 0.9820717131474104, \"IFT\": 24.74}, {\"Gas\": \"CH4\", \"Water_content\": 0.5, \"time_minutes\": 270.0, \"volume_ratio\": 0.9800796812749004, \"IFT\": 24.72}, {\"Gas\": \"CH4\", \"Water_content\": 0.5, \"time_minutes\": 285.0, \"volume_ratio\": 0.9800796812749004, \"IFT\": 24.79}, {\"Gas\": \"CH4\", \"Water_content\": 0.5, \"time_minutes\": 300.0, \"volume_ratio\": 0.9750996015936255, \"IFT\": 24.73}, {\"Gas\": \"CH4\", \"Water_content\": 0.5, \"time_minutes\": 315.0, \"volume_ratio\": 0.9750996015936255, \"IFT\": 24.79}, {\"Gas\": \"CH4\", \"Water_content\": 0.5, \"time_minutes\": 330.0, \"volume_ratio\": 0.9721115537848606, \"IFT\": 24.78}, {\"Gas\": \"CH4\", \"Water_content\": 0.5, \"time_minutes\": 345.0, \"volume_ratio\": 0.9721115537848606, \"IFT\": 24.79}, {\"Gas\": \"CH4\", \"Water_content\": 0.5, \"time_minutes\": 360.0, \"volume_ratio\": 0.9701195219123507, \"IFT\": 24.78}, {\"Gas\": \"CH4\", \"Water_content\": 0.5, \"time_minutes\": 375.0, \"volume_ratio\": 0.9671314741035858, \"IFT\": 24.74}, {\"Gas\": \"CH4\", \"Water_content\": 0.5, \"time_minutes\": 390.0, \"volume_ratio\": 0.9681274900398408, \"IFT\": 24.76}, {\"Gas\": \"CH4\", \"Water_content\": 0.5, \"time_minutes\": 405.0, \"volume_ratio\": 0.9671314741035858, \"IFT\": 24.75}, {\"Gas\": \"CH4\", \"Water_content\": 0.5, \"time_minutes\": 420.0, \"volume_ratio\": 0.9701195219123507, \"IFT\": 24.79}, {\"Gas\": \"CH4\", \"Water_content\": 0.5, \"time_minutes\": 435.0, \"volume_ratio\": 0.9701195219123507, \"IFT\": 24.8}, {\"Gas\": \"CH4\", \"Water_content\": 0.5, \"time_minutes\": 450.0, \"volume_ratio\": 0.9701195219123507, \"IFT\": 24.75}, {\"Gas\": \"CH4\", \"Water_content\": 0.5, \"time_minutes\": 465.0, \"volume_ratio\": 0.9760956175298806, \"IFT\": 24.81}, {\"Gas\": \"CH4\", \"Water_content\": 0.5, \"time_minutes\": 480.0, \"volume_ratio\": 0.9731075697211156, \"IFT\": 24.76}, {\"Gas\": \"CH4\", \"Water_content\": 0.5, \"time_minutes\": 495.0, \"volume_ratio\": 0.9780876494023906, \"IFT\": 24.88}, {\"Gas\": \"CH4\", \"Water_content\": 0.5, \"time_minutes\": 510.0, \"volume_ratio\": 0.9790836653386455, \"IFT\": 24.81}, {\"Gas\": \"CH4\", \"Water_content\": 0.5, \"time_minutes\": 525.0, \"volume_ratio\": 0.9790836653386455, \"IFT\": 24.78}, {\"Gas\": \"CH4\", \"Water_content\": 0.5, \"time_minutes\": 540.0, \"volume_ratio\": 0.9800796812749004, \"IFT\": 24.84}, {\"Gas\": \"CH4\", \"Water_content\": 0.5, \"time_minutes\": 555.0, \"volume_ratio\": 0.9750996015936255, \"IFT\": 24.79}, {\"Gas\": \"CH4\", \"Water_content\": 0.5, \"time_minutes\": 570.0, \"volume_ratio\": 0.9731075697211156, \"IFT\": 24.79}, {\"Gas\": \"CH4\", \"Water_content\": 0.5, \"time_minutes\": 585.0, \"volume_ratio\": 0.9711155378486057, \"IFT\": 24.89}, {\"Gas\": \"CH4\", \"Water_content\": 0.5, \"time_minutes\": 600.0, \"volume_ratio\": 0.9661354581673307, \"IFT\": 24.74}, {\"Gas\": \"CH4\", \"Water_content\": 0.5, \"time_minutes\": 615.0, \"volume_ratio\": 0.9681274900398408, \"IFT\": 24.87}, {\"Gas\": \"CH4\", \"Water_content\": 0.5, \"time_minutes\": 630.0, \"volume_ratio\": 0.9631474103585658, \"IFT\": 24.76}, {\"Gas\": \"CH4\", \"Water_content\": 0.5, \"time_minutes\": 645.0, \"volume_ratio\": 0.9631474103585658, \"IFT\": 24.8}, {\"Gas\": \"CH4\", \"Water_content\": 0.5, \"time_minutes\": 660.0, \"volume_ratio\": 0.9601593625498009, \"IFT\": 24.73}, {\"Gas\": \"CH4\", \"Water_content\": 0.5, \"time_minutes\": 675.0, \"volume_ratio\": 0.9601593625498009, \"IFT\": 24.74}, {\"Gas\": \"CH4\", \"Water_content\": 0.5, \"time_minutes\": 690.0, \"volume_ratio\": 0.9621513944223109, \"IFT\": 24.76}, {\"Gas\": \"CH4\", \"Water_content\": 0.5, \"time_minutes\": 705.0, \"volume_ratio\": 0.9601593625498009, \"IFT\": 24.7}, {\"Gas\": \"CH4\", \"Water_content\": 0.5, \"time_minutes\": 720.0, \"volume_ratio\": 0.9651394422310757, \"IFT\": 24.81}, {\"Gas\": \"CH4\", \"Water_content\": 0.5, \"time_minutes\": 735.0, \"volume_ratio\": 0.9691235059760958, \"IFT\": 24.81}, {\"Gas\": \"CH4\", \"Water_content\": 0.5, \"time_minutes\": 750.0, \"volume_ratio\": 0.9681274900398408, \"IFT\": 24.78}, {\"Gas\": \"CH4\", \"Water_content\": 0.5, \"time_minutes\": 765.0, \"volume_ratio\": 0.9691235059760958, \"IFT\": 24.78}, {\"Gas\": \"CH4\", \"Water_content\": 0.5, \"time_minutes\": 780.0, \"volume_ratio\": 0.9681274900398408, \"IFT\": 24.82}, {\"Gas\": \"CH4\", \"Water_content\": 0.5, \"time_minutes\": 795.0, \"volume_ratio\": 0.9681274900398408, \"IFT\": 24.76}, {\"Gas\": \"CH4\", \"Water_content\": 0.5, \"time_minutes\": 810.0, \"volume_ratio\": 0.9701195219123507, \"IFT\": 24.79}, {\"Gas\": \"CH4\", \"Water_content\": 0.5, \"time_minutes\": 825.0, \"volume_ratio\": 0.9681274900398408, \"IFT\": 24.82}, {\"Gas\": \"CH4\", \"Water_content\": 0.5, \"time_minutes\": 840.0, \"volume_ratio\": 0.9671314741035858, \"IFT\": 24.82}, {\"Gas\": \"CH4\", \"Water_content\": 0.5, \"time_minutes\": 855.0, \"volume_ratio\": 0.9661354581673307, \"IFT\": 24.82}, {\"Gas\": \"CH4\", \"Water_content\": 0.5, \"time_minutes\": 870.0, \"volume_ratio\": 0.9631474103585658, \"IFT\": 24.87}, {\"Gas\": \"CH4\", \"Water_content\": 0.5, \"time_minutes\": 885.0, \"volume_ratio\": 0.9601593625498009, \"IFT\": 24.83}, {\"Gas\": \"CH4\", \"Water_content\": 0.5, \"time_minutes\": 900.0, \"volume_ratio\": 0.959163346613546, \"IFT\": 24.81}, {\"Gas\": \"CH4\", \"Water_content\": 0.5, \"time_minutes\": 915.0, \"volume_ratio\": 0.9601593625498009, \"IFT\": 24.88}, {\"Gas\": \"CH4\", \"Water_content\": 0.5, \"time_minutes\": 930.0, \"volume_ratio\": 0.9571713147410359, \"IFT\": 24.85}, {\"Gas\": \"CH4\", \"Water_content\": 0.7, \"time_minutes\": 0.00011666666666666667, \"volume_ratio\": 1.0, \"IFT\": 22.97}, {\"Gas\": \"CH4\", \"Water_content\": 0.7, \"time_minutes\": 14.998333333333333, \"volume_ratio\": 0.9477911646586344, \"IFT\": 25.38}, {\"Gas\": \"CH4\", \"Water_content\": 0.7, \"time_minutes\": 30.0, \"volume_ratio\": 0.9236947791164657, \"IFT\": 25.39}, {\"Gas\": \"CH4\", \"Water_content\": 0.7, \"time_minutes\": 45.0, \"volume_ratio\": 0.9116465863453814, \"IFT\": 25.42}, {\"Gas\": \"CH4\", \"Water_content\": 0.7, \"time_minutes\": 60.0, \"volume_ratio\": 0.9026104417670682, \"IFT\": 25.45}, {\"Gas\": \"CH4\", \"Water_content\": 0.7, \"time_minutes\": 75.0, \"volume_ratio\": 0.894578313253012, \"IFT\": 25.36}, {\"Gas\": \"CH4\", \"Water_content\": 0.7, \"time_minutes\": 90.0, \"volume_ratio\": 0.8895582329317268, \"IFT\": 25.29}, {\"Gas\": \"CH4\", \"Water_content\": 0.7, \"time_minutes\": 105.0, \"volume_ratio\": 0.8875502008032128, \"IFT\": 25.35}, {\"Gas\": \"CH4\", \"Water_content\": 0.7, \"time_minutes\": 120.0, \"volume_ratio\": 0.8835341365461847, \"IFT\": 25.27}, {\"Gas\": \"CH4\", \"Water_content\": 0.7, \"time_minutes\": 135.0, \"volume_ratio\": 0.8815261044176705, \"IFT\": 25.28}, {\"Gas\": \"CH4\", \"Water_content\": 0.7, \"time_minutes\": 150.0, \"volume_ratio\": 0.8785140562248995, \"IFT\": 25.19}, {\"Gas\": \"CH4\", \"Water_content\": 0.7, \"time_minutes\": 165.0, \"volume_ratio\": 0.8805220883534135, \"IFT\": 25.35}, {\"Gas\": \"CH4\", \"Water_content\": 0.7, \"time_minutes\": 180.0, \"volume_ratio\": 0.8775100401606425, \"IFT\": 25.34}, {\"Gas\": \"CH4\", \"Water_content\": 0.7, \"time_minutes\": 195.0, \"volume_ratio\": 0.8765060240963856, \"IFT\": 25.34}, {\"Gas\": \"CH4\", \"Water_content\": 0.7, \"time_minutes\": 210.0, \"volume_ratio\": 0.8734939759036143, \"IFT\": 25.25}, {\"Gas\": \"CH4\", \"Water_content\": 0.7, \"time_minutes\": 225.0, \"volume_ratio\": 0.8684738955823292, \"IFT\": 25.18}, {\"Gas\": \"CH4\", \"Water_content\": 0.7, \"time_minutes\": 240.0, \"volume_ratio\": 0.8674698795180723, \"IFT\": 25.24}, {\"Gas\": \"CH4\", \"Water_content\": 0.7, \"time_minutes\": 255.0, \"volume_ratio\": 0.8644578313253011, \"IFT\": 25.2}, {\"Gas\": \"CH4\", \"Water_content\": 0.7, \"time_minutes\": 270.0, \"volume_ratio\": 0.8594377510040161, \"IFT\": 25.09}, {\"Gas\": \"CH4\", \"Water_content\": 0.7, \"time_minutes\": 285.0, \"volume_ratio\": 0.8574297188755019, \"IFT\": 25.15}, {\"Gas\": \"CH4\", \"Water_content\": 0.7, \"time_minutes\": 300.0, \"volume_ratio\": 0.8544176706827308, \"IFT\": 25.11}, {\"Gas\": \"CH4\", \"Water_content\": 0.7, \"time_minutes\": 315.0, \"volume_ratio\": 0.8544176706827308, \"IFT\": 25.2}, {\"Gas\": \"CH4\", \"Water_content\": 0.7, \"time_minutes\": 330.0, \"volume_ratio\": 0.8504016064257028, \"IFT\": 25.05}, {\"Gas\": \"CH4\", \"Water_content\": 0.7, \"time_minutes\": 345.0, \"volume_ratio\": 0.8504016064257028, \"IFT\": 25.14}, {\"Gas\": \"CH4\", \"Water_content\": 0.7, \"time_minutes\": 360.0, \"volume_ratio\": 0.8483935742971886, \"IFT\": 25.05}, {\"Gas\": \"CH4\", \"Water_content\": 0.7, \"time_minutes\": 375.0, \"volume_ratio\": 0.8473895582329316, \"IFT\": 24.98}, {\"Gas\": \"CH4\", \"Water_content\": 0.7, \"time_minutes\": 390.0, \"volume_ratio\": 0.8493975903614458, \"IFT\": 25.02}, {\"Gas\": \"CH4\", \"Water_content\": 0.7, \"time_minutes\": 405.0, \"volume_ratio\": 0.8514056224899598, \"IFT\": 25.14}, {\"Gas\": \"CH4\", \"Water_content\": 0.7, \"time_minutes\": 420.0, \"volume_ratio\": 0.8493975903614458, \"IFT\": 25.13}, {\"Gas\": \"CH4\", \"Water_content\": 0.7, \"time_minutes\": 435.0, \"volume_ratio\": 0.8504016064257028, \"IFT\": 25.15}, {\"Gas\": \"CH4\", \"Water_content\": 0.7, \"time_minutes\": 450.0, \"volume_ratio\": 0.8463855421686746, \"IFT\": 24.99}, {\"Gas\": \"CH4\", \"Water_content\": 0.7, \"time_minutes\": 465.0, \"volume_ratio\": 0.8473895582329316, \"IFT\": 25.09}, {\"Gas\": \"CH4\", \"Water_content\": 0.7, \"time_minutes\": 480.0, \"volume_ratio\": 0.8463855421686746, \"IFT\": 25.11}, {\"Gas\": \"CH4\", \"Water_content\": 0.7, \"time_minutes\": 495.0, \"volume_ratio\": 0.8433734939759036, \"IFT\": 25.14}, {\"Gas\": \"CH4\", \"Water_content\": 0.7, \"time_minutes\": 510.0, \"volume_ratio\": 0.8413654618473896, \"IFT\": 25.17}, {\"Gas\": \"CH4\", \"Water_content\": 0.7, \"time_minutes\": 525.0, \"volume_ratio\": 0.8393574297188754, \"IFT\": 25.27}, {\"Gas\": \"CH4\", \"Water_content\": 0.7, \"time_minutes\": 540.0, \"volume_ratio\": 0.8353413654618473, \"IFT\": 25.19}, {\"Gas\": \"CH4\", \"Water_content\": 0.7, \"time_minutes\": 555.0, \"volume_ratio\": 0.8313253012048192, \"IFT\": 25.17}, {\"Gas\": \"CH4\", \"Water_content\": 0.7, \"time_minutes\": 570.0, \"volume_ratio\": 0.8303212851405621, \"IFT\": 25.17}, {\"Gas\": \"CH4\", \"Water_content\": 0.7, \"time_minutes\": 585.0, \"volume_ratio\": 0.8303212851405621, \"IFT\": 25.25}, {\"Gas\": \"CH4\", \"Water_content\": 0.7, \"time_minutes\": 600.0, \"volume_ratio\": 0.8313253012048192, \"IFT\": 25.17}, {\"Gas\": \"CH4\", \"Water_content\": 0.7, \"time_minutes\": 615.0, \"volume_ratio\": 0.8283132530120482, \"IFT\": 25.08}, {\"Gas\": \"CH4\", \"Water_content\": 0.7, \"time_minutes\": 630.0, \"volume_ratio\": 0.8293172690763051, \"IFT\": 25.1}, {\"Gas\": \"CH4\", \"Water_content\": 0.7, \"time_minutes\": 645.0, \"volume_ratio\": 0.8283132530120482, \"IFT\": 25.1}, {\"Gas\": \"CH4\", \"Water_content\": 0.7, \"time_minutes\": 660.0, \"volume_ratio\": 0.8303212851405621, \"IFT\": 25.25}, {\"Gas\": \"CH4\", \"Water_content\": 0.7, \"time_minutes\": 675.0, \"volume_ratio\": 0.8283132530120482, \"IFT\": 25.18}, {\"Gas\": \"CH4\", \"Water_content\": 0.7, \"time_minutes\": 690.0, \"volume_ratio\": 0.8303212851405621, \"IFT\": 25.25}, {\"Gas\": \"CH4\", \"Water_content\": 0.7, \"time_minutes\": 705.0, \"volume_ratio\": 0.8303212851405621, \"IFT\": 25.26}, {\"Gas\": \"CH4\", \"Water_content\": 0.7, \"time_minutes\": 720.0, \"volume_ratio\": 0.8303212851405621, \"IFT\": 25.25}, {\"Gas\": \"CH4\", \"Water_content\": 0.7, \"time_minutes\": 735.0, \"volume_ratio\": 0.8293172690763051, \"IFT\": 25.25}, {\"Gas\": \"CH4\", \"Water_content\": 0.7, \"time_minutes\": 750.0, \"volume_ratio\": 0.8273092369477911, \"IFT\": 25.25}, {\"Gas\": \"CH4\", \"Water_content\": 0.7, \"time_minutes\": 765.0, \"volume_ratio\": 0.8263052208835341, \"IFT\": 25.3}, {\"Gas\": \"CH4\", \"Water_content\": 0.7, \"time_minutes\": 780.0, \"volume_ratio\": 0.8263052208835341, \"IFT\": 25.28}, {\"Gas\": \"CH4\", \"Water_content\": 0.7, \"time_minutes\": 795.0, \"volume_ratio\": 0.8263052208835341, \"IFT\": 25.39}, {\"Gas\": \"CH4\", \"Water_content\": 0.7, \"time_minutes\": 810.0, \"volume_ratio\": 0.8222891566265059, \"IFT\": 25.31}, {\"Gas\": \"CH4\", \"Water_content\": 0.7, \"time_minutes\": 825.0, \"volume_ratio\": 0.8242971887550201, \"IFT\": 25.41}, {\"Gas\": \"CH4\", \"Water_content\": 0.7, \"time_minutes\": 840.0, \"volume_ratio\": 0.8222891566265059, \"IFT\": 25.4}, {\"Gas\": \"CH4\", \"Water_content\": 0.7, \"time_minutes\": 855.0, \"volume_ratio\": 0.8212851405622489, \"IFT\": 25.4}, {\"Gas\": \"CH4\", \"Water_content\": 0.7, \"time_minutes\": 870.0, \"volume_ratio\": 0.8192771084337349, \"IFT\": 25.33}, {\"Gas\": \"CH4\", \"Water_content\": 0.7, \"time_minutes\": 885.0, \"volume_ratio\": 0.8212851405622489, \"IFT\": 25.37}, {\"Gas\": \"CH4\", \"Water_content\": 0.7, \"time_minutes\": 900.0, \"volume_ratio\": 0.8222891566265059, \"IFT\": 25.4}, {\"Gas\": \"CH4\", \"Water_content\": 0.7, \"time_minutes\": 915.0, \"volume_ratio\": 0.823293172690763, \"IFT\": 25.42}, {\"Gas\": \"CH4\", \"Water_content\": 0.7, \"time_minutes\": 930.0, \"volume_ratio\": 0.8222891566265059, \"IFT\": 25.26}, {\"Gas\": \"CO2\", \"Water_content\": 0.0, \"time_minutes\": 5e-05, \"volume_ratio\": 1.0, \"IFT\": 25.08}, {\"Gas\": \"CO2\", \"Water_content\": 0.0, \"time_minutes\": 14.998333333333333, \"volume_ratio\": 1.0026178010471203, \"IFT\": 25.12}, {\"Gas\": \"CO2\", \"Water_content\": 0.0, \"time_minutes\": 30.0, \"volume_ratio\": 1.0052356020942408, \"IFT\": 25.16}, {\"Gas\": \"CO2\", \"Water_content\": 0.0, \"time_minutes\": 45.0, \"volume_ratio\": 1.0061082024432808, \"IFT\": 25.17}, {\"Gas\": \"CO2\", \"Water_content\": 0.0, \"time_minutes\": 60.0, \"volume_ratio\": 1.0078534031413613, \"IFT\": 25.21}, {\"Gas\": \"CO2\", \"Water_content\": 0.0, \"time_minutes\": 75.0, \"volume_ratio\": 1.0052356020942408, \"IFT\": 25.13}, {\"Gas\": \"CO2\", \"Water_content\": 0.0, \"time_minutes\": 90.0, \"volume_ratio\": 1.006980802792321, \"IFT\": 25.2}, {\"Gas\": \"CO2\", \"Water_content\": 0.0, \"time_minutes\": 105.0, \"volume_ratio\": 1.0043630017452005, \"IFT\": 25.15}, {\"Gas\": \"CO2\", \"Water_content\": 0.0, \"time_minutes\": 120.0, \"volume_ratio\": 1.0017452006980803, \"IFT\": 25.13}, {\"Gas\": \"CO2\", \"Water_content\": 0.0, \"time_minutes\": 135.0, \"volume_ratio\": 1.0, \"IFT\": 25.09}, {\"Gas\": \"CO2\", \"Water_content\": 0.0, \"time_minutes\": 150.0, \"volume_ratio\": 1.0034904013961605, \"IFT\": 25.25}, {\"Gas\": \"CO2\", \"Water_content\": 0.0, \"time_minutes\": 165.0, \"volume_ratio\": 0.9991273996509598, \"IFT\": 25.14}, {\"Gas\": \"CO2\", \"Water_content\": 0.0, \"time_minutes\": 180.0, \"volume_ratio\": 0.9956369982547992, \"IFT\": 25.07}, {\"Gas\": \"CO2\", \"Water_content\": 0.0, \"time_minutes\": 195.0, \"volume_ratio\": 0.9930191972076788, \"IFT\": 25.02}, {\"Gas\": \"CO2\", \"Water_content\": 0.0, \"time_minutes\": 210.0, \"volume_ratio\": 0.9886561954624781, \"IFT\": 24.89}, {\"Gas\": \"CO2\", \"Water_content\": 0.0, \"time_minutes\": 225.0, \"volume_ratio\": 0.9904013961605583, \"IFT\": 24.99}, {\"Gas\": \"CO2\", \"Water_content\": 0.0, \"time_minutes\": 240.0, \"volume_ratio\": 0.9886561954624781, \"IFT\": 24.92}, {\"Gas\": \"CO2\", \"Water_content\": 0.0, \"time_minutes\": 255.0, \"volume_ratio\": 0.9869109947643979, \"IFT\": 24.83}, {\"Gas\": \"CO2\", \"Water_content\": 0.0, \"time_minutes\": 270.0, \"volume_ratio\": 0.9895287958115182, \"IFT\": 24.89}, {\"Gas\": \"CO2\", \"Water_content\": 0.0, \"time_minutes\": 285.0, \"volume_ratio\": 0.9904013961605583, \"IFT\": 24.86}, {\"Gas\": \"CO2\", \"Water_content\": 0.0, \"time_minutes\": 300.0, \"volume_ratio\": 0.9930191972076788, \"IFT\": 24.9}, {\"Gas\": \"CO2\", \"Water_content\": 0.0, \"time_minutes\": 315.0, \"volume_ratio\": 0.9921465968586386, \"IFT\": 24.85}, {\"Gas\": \"CO2\", \"Water_content\": 0.0, \"time_minutes\": 330.0, \"volume_ratio\": 0.993891797556719, \"IFT\": 24.84}, {\"Gas\": \"CO2\", \"Water_content\": 0.0, \"time_minutes\": 345.0, \"volume_ratio\": 0.9947643979057591, \"IFT\": 24.82}, {\"Gas\": \"CO2\", \"Water_content\": 0.0, \"time_minutes\": 360.0, \"volume_ratio\": 0.9930191972076788, \"IFT\": 24.83}, {\"Gas\": \"CO2\", \"Water_content\": 0.0, \"time_minutes\": 375.0, \"volume_ratio\": 0.9895287958115182, \"IFT\": 24.75}, {\"Gas\": \"CO2\", \"Water_content\": 0.0, \"time_minutes\": 390.0, \"volume_ratio\": 0.9895287958115182, \"IFT\": 24.71}, {\"Gas\": \"CO2\", \"Water_content\": 0.0, \"time_minutes\": 405.0, \"volume_ratio\": 0.9895287958115182, \"IFT\": 24.71}, {\"Gas\": \"CO2\", \"Water_content\": 0.0, \"time_minutes\": 420.0, \"volume_ratio\": 0.9904013961605583, \"IFT\": 24.7}, {\"Gas\": \"CO2\", \"Water_content\": 0.0, \"time_minutes\": 435.0, \"volume_ratio\": 0.9904013961605583, \"IFT\": 24.68}, {\"Gas\": \"CO2\", \"Water_content\": 0.0, \"time_minutes\": 450.0, \"volume_ratio\": 0.9930191972076788, \"IFT\": 24.67}, {\"Gas\": \"CO2\", \"Water_content\": 0.0, \"time_minutes\": 465.0, \"volume_ratio\": 0.9921465968586386, \"IFT\": 24.64}, {\"Gas\": \"CO2\", \"Water_content\": 0.0, \"time_minutes\": 495.0, \"volume_ratio\": 0.9956369982547992, \"IFT\": 24.67}, {\"Gas\": \"CO2\", \"Water_content\": 0.0, \"time_minutes\": 510.0, \"volume_ratio\": 0.9947643979057591, \"IFT\": 24.59}, {\"Gas\": \"CO2\", \"Water_content\": 0.0, \"time_minutes\": 525.0, \"volume_ratio\": 0.9912739965095985, \"IFT\": 24.52}, {\"Gas\": \"CO2\", \"Water_content\": 0.0, \"time_minutes\": 540.0, \"volume_ratio\": 0.9912739965095985, \"IFT\": 24.55}, {\"Gas\": \"CO2\", \"Water_content\": 0.0, \"time_minutes\": 555.0, \"volume_ratio\": 0.9904013961605583, \"IFT\": 24.49}, {\"Gas\": \"CO2\", \"Water_content\": 0.0, \"time_minutes\": 570.0, \"volume_ratio\": 0.9912739965095985, \"IFT\": 24.49}, {\"Gas\": \"CO2\", \"Water_content\": 0.0, \"time_minutes\": 585.0, \"volume_ratio\": 0.9921465968586386, \"IFT\": 24.5}, {\"Gas\": \"CO2\", \"Water_content\": 0.0, \"time_minutes\": 600.0, \"volume_ratio\": 0.987783595113438, \"IFT\": 24.4}, {\"Gas\": \"CO2\", \"Water_content\": 0.0, \"time_minutes\": 630.0, \"volume_ratio\": 0.9912739965095985, \"IFT\": 24.4}, {\"Gas\": \"CO2\", \"Water_content\": 0.0, \"time_minutes\": 645.0, \"volume_ratio\": 0.993891797556719, \"IFT\": 24.36}, {\"Gas\": \"CO2\", \"Water_content\": 0.0, \"time_minutes\": 660.0, \"volume_ratio\": 0.9956369982547992, \"IFT\": 24.28}, {\"Gas\": \"CO2\", \"Water_content\": 0.0, \"time_minutes\": 675.0, \"volume_ratio\": 0.9982547993019196, \"IFT\": 24.27}, {\"Gas\": \"CO2\", \"Water_content\": 0.0, \"time_minutes\": 690.0, \"volume_ratio\": 1.0, \"IFT\": 24.24}, {\"Gas\": \"CO2\", \"Water_content\": 0.0, \"time_minutes\": 705.0, \"volume_ratio\": 1.00087260034904, \"IFT\": 24.22}, {\"Gas\": \"CO2\", \"Water_content\": 0.0, \"time_minutes\": 720.0, \"volume_ratio\": 1.00087260034904, \"IFT\": 24.19}, {\"Gas\": \"CO2\", \"Water_content\": 0.0, \"time_minutes\": 735.0, \"volume_ratio\": 1.00087260034904, \"IFT\": 24.15}, {\"Gas\": \"CO2\", \"Water_content\": 0.0, \"time_minutes\": 750.0, \"volume_ratio\": 1.0043630017452005, \"IFT\": 24.2}, {\"Gas\": \"CO2\", \"Water_content\": 0.0, \"time_minutes\": 765.0, \"volume_ratio\": 1.0026178010471203, \"IFT\": 24.15}, {\"Gas\": \"CO2\", \"Water_content\": 0.0, \"time_minutes\": 780.0, \"volume_ratio\": 0.9991273996509598, \"IFT\": 24.04}, {\"Gas\": \"CO2\", \"Water_content\": 0.0, \"time_minutes\": 795.0, \"volume_ratio\": 1.0, \"IFT\": 24.05}, {\"Gas\": \"CO2\", \"Water_content\": 0.0, \"time_minutes\": 870.0, \"volume_ratio\": 0.9947643979057591, \"IFT\": 23.89}, {\"Gas\": \"CO2\", \"Water_content\": 0.0, \"time_minutes\": 885.0, \"volume_ratio\": 0.9947643979057591, \"IFT\": 23.81}, {\"Gas\": \"CO2\", \"Water_content\": 0.0, \"time_minutes\": 900.0, \"volume_ratio\": 0.9947643979057591, \"IFT\": 23.76}, {\"Gas\": \"CO2\", \"Water_content\": 0.0, \"time_minutes\": 915.0, \"volume_ratio\": 0.9965095986038394, \"IFT\": 23.8}, {\"Gas\": \"CO2\", \"Water_content\": 0.0, \"time_minutes\": 930.0, \"volume_ratio\": 0.9973821989528795, \"IFT\": 23.8}, {\"Gas\": \"CO2\", \"Water_content\": 0.1, \"time_minutes\": 0.00013333333333333334, \"volume_ratio\": 1.0, \"IFT\": 19.36}, {\"Gas\": \"CO2\", \"Water_content\": 0.1, \"time_minutes\": 14.998333333333333, \"volume_ratio\": 1.0180722891566263, \"IFT\": 19.42}, {\"Gas\": \"CO2\", \"Water_content\": 0.1, \"time_minutes\": 30.0, \"volume_ratio\": 1.008433734939759, \"IFT\": 19.44}, {\"Gas\": \"CO2\", \"Water_content\": 0.1, \"time_minutes\": 45.0, \"volume_ratio\": 1.0036144578313253, \"IFT\": 19.43}, {\"Gas\": \"CO2\", \"Water_content\": 0.1, \"time_minutes\": 60.0, \"volume_ratio\": 1.0024096385542167, \"IFT\": 19.47}, {\"Gas\": \"CO2\", \"Water_content\": 0.1, \"time_minutes\": 75.0, \"volume_ratio\": 1.0, \"IFT\": 19.26}, {\"Gas\": \"CO2\", \"Water_content\": 0.1, \"time_minutes\": 90.0, \"volume_ratio\": 0.9987951807228914, \"IFT\": 19.27}, {\"Gas\": \"CO2\", \"Water_content\": 0.1, \"time_minutes\": 105.0, \"volume_ratio\": 0.9963855421686746, \"IFT\": 19.21}, {\"Gas\": \"CO2\", \"Water_content\": 0.1, \"time_minutes\": 120.0, \"volume_ratio\": 1.0012048192771084, \"IFT\": 19.2}, {\"Gas\": \"CO2\", \"Water_content\": 0.1, \"time_minutes\": 135.0, \"volume_ratio\": 1.0, \"IFT\": 19.19}, {\"Gas\": \"CO2\", \"Water_content\": 0.1, \"time_minutes\": 150.0, \"volume_ratio\": 0.9963855421686746, \"IFT\": 19.14}, {\"Gas\": \"CO2\", \"Water_content\": 0.1, \"time_minutes\": 165.0, \"volume_ratio\": 1.0012048192771084, \"IFT\": 19.26}, {\"Gas\": \"CO2\", \"Water_content\": 0.1, \"time_minutes\": 180.0, \"volume_ratio\": 0.9987951807228914, \"IFT\": 19.21}, {\"Gas\": \"CO2\", \"Water_content\": 0.1, \"time_minutes\": 195.0, \"volume_ratio\": 0.9903614457831326, \"IFT\": 19.12}, {\"Gas\": \"CO2\", \"Water_content\": 0.1, \"time_minutes\": 210.0, \"volume_ratio\": 0.9951807228915661, \"IFT\": 19.09}, {\"Gas\": \"CO2\", \"Water_content\": 0.1, \"time_minutes\": 225.0, \"volume_ratio\": 1.0, \"IFT\": 19.05}, {\"Gas\": \"CO2\", \"Water_content\": 0.1, \"time_minutes\": 240.0, \"volume_ratio\": 0.9951807228915661, \"IFT\": 19.0}, {\"Gas\": \"CO2\", \"Water_content\": 0.1, \"time_minutes\": 255.0, \"volume_ratio\": 0.9939759036144578, \"IFT\": 19.03}, {\"Gas\": \"CO2\", \"Water_content\": 0.1, \"time_minutes\": 270.0, \"volume_ratio\": 0.9903614457831326, \"IFT\": 18.98}, {\"Gas\": \"CO2\", \"Water_content\": 0.1, \"time_minutes\": 285.0, \"volume_ratio\": 0.9927710843373493, \"IFT\": 19.03}, {\"Gas\": \"CO2\", \"Water_content\": 0.1, \"time_minutes\": 300.0, \"volume_ratio\": 0.9963855421686746, \"IFT\": 19.1}, {\"Gas\": \"CO2\", \"Water_content\": 0.1, \"time_minutes\": 315.0, \"volume_ratio\": 0.9915662650602409, \"IFT\": 18.99}, {\"Gas\": \"CO2\", \"Water_content\": 0.1, \"time_minutes\": 330.0, \"volume_ratio\": 0.9927710843373493, \"IFT\": 18.92}, {\"Gas\": \"CO2\", \"Water_content\": 0.1, \"time_minutes\": 345.0, \"volume_ratio\": 0.9915662650602409, \"IFT\": 18.9}, {\"Gas\": \"CO2\", \"Water_content\": 0.1, \"time_minutes\": 360.0, \"volume_ratio\": 0.9903614457831326, \"IFT\": 18.88}, {\"Gas\": \"CO2\", \"Water_content\": 0.1, \"time_minutes\": 375.0, \"volume_ratio\": 0.9879518072289155, \"IFT\": 18.86}, {\"Gas\": \"CO2\", \"Water_content\": 0.1, \"time_minutes\": 390.0, \"volume_ratio\": 0.9891566265060241, \"IFT\": 18.94}, {\"Gas\": \"CO2\", \"Water_content\": 0.1, \"time_minutes\": 405.0, \"volume_ratio\": 0.9915662650602409, \"IFT\": 18.92}, {\"Gas\": \"CO2\", \"Water_content\": 0.1, \"time_minutes\": 420.0, \"volume_ratio\": 0.9879518072289155, \"IFT\": 18.86}, {\"Gas\": \"CO2\", \"Water_content\": 0.1, \"time_minutes\": 435.0, \"volume_ratio\": 0.9903614457831326, \"IFT\": 18.95}, {\"Gas\": \"CO2\", \"Water_content\": 0.1, \"time_minutes\": 450.0, \"volume_ratio\": 0.9879518072289155, \"IFT\": 18.86}, {\"Gas\": \"CO2\", \"Water_content\": 0.1, \"time_minutes\": 465.0, \"volume_ratio\": 0.9903614457831326, \"IFT\": 18.93}, {\"Gas\": \"CO2\", \"Water_content\": 0.1, \"time_minutes\": 480.0, \"volume_ratio\": 0.9879518072289155, \"IFT\": 18.91}, {\"Gas\": \"CO2\", \"Water_content\": 0.1, \"time_minutes\": 495.0, \"volume_ratio\": 0.9855421686746987, \"IFT\": 18.85}, {\"Gas\": \"CO2\", \"Water_content\": 0.1, \"time_minutes\": 510.0, \"volume_ratio\": 0.9891566265060241, \"IFT\": 18.93}, {\"Gas\": \"CO2\", \"Water_content\": 0.1, \"time_minutes\": 525.0, \"volume_ratio\": 0.9855421686746987, \"IFT\": 18.88}, {\"Gas\": \"CO2\", \"Water_content\": 0.1, \"time_minutes\": 540.0, \"volume_ratio\": 0.986746987951807, \"IFT\": 18.92}, {\"Gas\": \"CO2\", \"Water_content\": 0.1, \"time_minutes\": 555.0, \"volume_ratio\": 0.9819277108433735, \"IFT\": 18.87}, {\"Gas\": \"CO2\", \"Water_content\": 0.1, \"time_minutes\": 570.0, \"volume_ratio\": 0.9855421686746987, \"IFT\": 18.92}, {\"Gas\": \"CO2\", \"Water_content\": 0.1, \"time_minutes\": 585.0, \"volume_ratio\": 0.9855421686746987, \"IFT\": 18.9}, {\"Gas\": \"CO2\", \"Water_content\": 0.1, \"time_minutes\": 600.0, \"volume_ratio\": 0.9843373493975903, \"IFT\": 18.89}, {\"Gas\": \"CO2\", \"Water_content\": 0.1, \"time_minutes\": 615.0, \"volume_ratio\": 0.9819277108433735, \"IFT\": 18.85}, {\"Gas\": \"CO2\", \"Water_content\": 0.1, \"time_minutes\": 630.0, \"volume_ratio\": 0.980722891566265, \"IFT\": 18.92}, {\"Gas\": \"CO2\", \"Water_content\": 0.1, \"time_minutes\": 645.0, \"volume_ratio\": 0.9759036144578312, \"IFT\": 18.86}, {\"Gas\": \"CO2\", \"Water_content\": 0.1, \"time_minutes\": 660.0, \"volume_ratio\": 0.9734939759036144, \"IFT\": 18.92}, {\"Gas\": \"CO2\", \"Water_content\": 0.1, \"time_minutes\": 675.0, \"volume_ratio\": 0.9686746987951805, \"IFT\": 18.83}, {\"Gas\": \"CO2\", \"Water_content\": 0.1, \"time_minutes\": 690.0, \"volume_ratio\": 0.9674698795180722, \"IFT\": 18.83}, {\"Gas\": \"CO2\", \"Water_content\": 0.1, \"time_minutes\": 705.0, \"volume_ratio\": 0.9662650602409637, \"IFT\": 18.86}, {\"Gas\": \"CO2\", \"Water_content\": 0.1, \"time_minutes\": 720.0, \"volume_ratio\": 0.9674698795180722, \"IFT\": 18.89}, {\"Gas\": \"CO2\", \"Water_content\": 0.1, \"time_minutes\": 735.0, \"volume_ratio\": 0.9674698795180722, \"IFT\": 18.91}, {\"Gas\": \"CO2\", \"Water_content\": 0.1, \"time_minutes\": 750.0, \"volume_ratio\": 0.9638554216867469, \"IFT\": 18.85}, {\"Gas\": \"CO2\", \"Water_content\": 0.1, \"time_minutes\": 765.0, \"volume_ratio\": 0.9650602409638553, \"IFT\": 18.89}, {\"Gas\": \"CO2\", \"Water_content\": 0.1, \"time_minutes\": 780.0, \"volume_ratio\": 0.9662650602409637, \"IFT\": 18.86}, {\"Gas\": \"CO2\", \"Water_content\": 0.1, \"time_minutes\": 795.0, \"volume_ratio\": 0.9674698795180722, \"IFT\": 18.84}, {\"Gas\": \"CO2\", \"Water_content\": 0.1, \"time_minutes\": 810.0, \"volume_ratio\": 0.9710843373493976, \"IFT\": 18.87}, {\"Gas\": \"CO2\", \"Water_content\": 0.1, \"time_minutes\": 825.0, \"volume_ratio\": 0.9746987951807228, \"IFT\": 18.91}, {\"Gas\": \"CO2\", \"Water_content\": 0.1, \"time_minutes\": 840.0, \"volume_ratio\": 0.9771084337349396, \"IFT\": 18.94}, {\"Gas\": \"CO2\", \"Water_content\": 0.1, \"time_minutes\": 855.0, \"volume_ratio\": 0.980722891566265, \"IFT\": 18.96}, {\"Gas\": \"CO2\", \"Water_content\": 0.1, \"time_minutes\": 870.0, \"volume_ratio\": 0.978313253012048, \"IFT\": 18.91}, {\"Gas\": \"CO2\", \"Water_content\": 0.1, \"time_minutes\": 885.0, \"volume_ratio\": 0.978313253012048, \"IFT\": 18.96}, {\"Gas\": \"CO2\", \"Water_content\": 0.1, \"time_minutes\": 900.0, \"volume_ratio\": 0.978313253012048, \"IFT\": 18.99}, {\"Gas\": \"CO2\", \"Water_content\": 0.1, \"time_minutes\": 915.0, \"volume_ratio\": 0.9771084337349396, \"IFT\": 19.0}, {\"Gas\": \"CO2\", \"Water_content\": 0.1, \"time_minutes\": 930.0, \"volume_ratio\": 0.972289156626506, \"IFT\": 18.94}, {\"Gas\": \"CO2\", \"Water_content\": 0.33, \"time_minutes\": 0.0002, \"volume_ratio\": 1.0, \"IFT\": 18.07}, {\"Gas\": \"CO2\", \"Water_content\": 0.33, \"time_minutes\": 14.998333333333333, \"volume_ratio\": 1.0252583237657864, \"IFT\": 19.12}, {\"Gas\": \"CO2\", \"Water_content\": 0.33, \"time_minutes\": 30.0, \"volume_ratio\": 1.0252583237657864, \"IFT\": 19.11}, {\"Gas\": \"CO2\", \"Water_content\": 0.33, \"time_minutes\": 45.0, \"volume_ratio\": 1.0229621125143513, \"IFT\": 19.16}, {\"Gas\": \"CO2\", \"Water_content\": 0.33, \"time_minutes\": 60.0, \"volume_ratio\": 1.018369690011481, \"IFT\": 19.12}, {\"Gas\": \"CO2\", \"Water_content\": 0.33, \"time_minutes\": 75.0, \"volume_ratio\": 1.0160734787600458, \"IFT\": 19.13}, {\"Gas\": \"CO2\", \"Water_content\": 0.33, \"time_minutes\": 90.0, \"volume_ratio\": 1.0149253731343282, \"IFT\": 19.19}, {\"Gas\": \"CO2\", \"Water_content\": 0.33, \"time_minutes\": 105.0, \"volume_ratio\": 1.0114810562571757, \"IFT\": 19.14}, {\"Gas\": \"CO2\", \"Water_content\": 0.33, \"time_minutes\": 120.0, \"volume_ratio\": 1.0080367393800227, \"IFT\": 19.1}, {\"Gas\": \"CO2\", \"Water_content\": 0.33, \"time_minutes\": 135.0, \"volume_ratio\": 1.0091848450057403, \"IFT\": 19.13}, {\"Gas\": \"CO2\", \"Water_content\": 0.33, \"time_minutes\": 150.0, \"volume_ratio\": 1.0068886337543053, \"IFT\": 19.11}, {\"Gas\": \"CO2\", \"Water_content\": 0.33, \"time_minutes\": 165.0, \"volume_ratio\": 1.0091848450057403, \"IFT\": 19.14}, {\"Gas\": \"CO2\", \"Water_content\": 0.33, \"time_minutes\": 180.0, \"volume_ratio\": 1.0034443168771525, \"IFT\": 19.03}, {\"Gas\": \"CO2\", \"Water_content\": 0.33, \"time_minutes\": 195.0, \"volume_ratio\": 1.0068886337543053, \"IFT\": 19.06}, {\"Gas\": \"CO2\", \"Water_content\": 0.33, \"time_minutes\": 210.0, \"volume_ratio\": 1.0057405281285876, \"IFT\": 19.07}, {\"Gas\": \"CO2\", \"Water_content\": 0.45, \"time_minutes\": 0.0002, \"volume_ratio\": 1.0, \"IFT\": 19.19}, {\"Gas\": \"CO2\", \"Water_content\": 0.45, \"time_minutes\": 14.998333333333333, \"volume_ratio\": 1.019253910950662, \"IFT\": 19.89}, {\"Gas\": \"CO2\", \"Water_content\": 0.45, \"time_minutes\": 30.0, \"volume_ratio\": 1.0180505415162455, \"IFT\": 19.89}, {\"Gas\": \"CO2\", \"Water_content\": 0.45, \"time_minutes\": 45.0, \"volume_ratio\": 1.0144404332129964, \"IFT\": 19.84}, {\"Gas\": \"CO2\", \"Water_content\": 0.45, \"time_minutes\": 60.0, \"volume_ratio\": 1.0156438026474126, \"IFT\": 19.91}, {\"Gas\": \"CO2\", \"Water_content\": 0.45, \"time_minutes\": 75.0, \"volume_ratio\": 1.0120336943441637, \"IFT\": 19.89}, {\"Gas\": \"CO2\", \"Water_content\": 0.45, \"time_minutes\": 90.0, \"volume_ratio\": 1.009626955475331, \"IFT\": 19.81}, {\"Gas\": \"CO2\", \"Water_content\": 0.45, \"time_minutes\": 105.0, \"volume_ratio\": 1.0108303249097472, \"IFT\": 19.89}, {\"Gas\": \"CO2\", \"Water_content\": 0.45, \"time_minutes\": 120.0, \"volume_ratio\": 1.0084235860409145, \"IFT\": 19.84}, {\"Gas\": \"CO2\", \"Water_content\": 0.45, \"time_minutes\": 135.0, \"volume_ratio\": 1.0060168471720816, \"IFT\": 19.75}, {\"Gas\": \"CO2\", \"Water_content\": 0.45, \"time_minutes\": 150.0, \"volume_ratio\": 1.003610108303249, \"IFT\": 19.77}, {\"Gas\": \"CO2\", \"Water_content\": 0.45, \"time_minutes\": 165.0, \"volume_ratio\": 1.0024067388688327, \"IFT\": 19.82}, {\"Gas\": \"CO2\", \"Water_content\": 0.45, \"time_minutes\": 180.0, \"volume_ratio\": 1.0, \"IFT\": 19.77}, {\"Gas\": \"CO2\", \"Water_content\": 0.45, \"time_minutes\": 195.0, \"volume_ratio\": 0.9963898916967507, \"IFT\": 19.75}, {\"Gas\": \"CO2\", \"Water_content\": 0.45, \"time_minutes\": 210.0, \"volume_ratio\": 0.9963898916967507, \"IFT\": 19.79}, {\"Gas\": \"CO2\", \"Water_content\": 0.7, \"time_minutes\": 0.00018333333333333334, \"volume_ratio\": 1.0, \"IFT\": 17.14}, {\"Gas\": \"CO2\", \"Water_content\": 0.7, \"time_minutes\": 14.998333333333333, \"volume_ratio\": 1.0072815533980584, \"IFT\": 19.92}, {\"Gas\": \"CO2\", \"Water_content\": 0.7, \"time_minutes\": 30.0, \"volume_ratio\": 1.003640776699029, \"IFT\": 19.96}, {\"Gas\": \"CO2\", \"Water_content\": 0.7, \"time_minutes\": 45.0, \"volume_ratio\": 1.0, \"IFT\": 20.0}, {\"Gas\": \"CO2\", \"Water_content\": 0.7, \"time_minutes\": 60.0, \"volume_ratio\": 0.9927184466019416, \"IFT\": 19.93}, {\"Gas\": \"CO2\", \"Water_content\": 0.7, \"time_minutes\": 75.0, \"volume_ratio\": 0.9878640776699029, \"IFT\": 19.92}, {\"Gas\": \"CO2\", \"Water_content\": 0.7, \"time_minutes\": 90.0, \"volume_ratio\": 0.983009708737864, \"IFT\": 19.93}, {\"Gas\": \"CO2\", \"Water_content\": 0.7, \"time_minutes\": 105.0, \"volume_ratio\": 0.9817961165048543, \"IFT\": 19.95}, {\"Gas\": \"CO2\", \"Water_content\": 0.7, \"time_minutes\": 120.0, \"volume_ratio\": 0.9805825242718447, \"IFT\": 19.93}, {\"Gas\": \"CO2\", \"Water_content\": 0.7, \"time_minutes\": 135.0, \"volume_ratio\": 0.9769417475728156, \"IFT\": 19.87}, {\"Gas\": \"CO2\", \"Water_content\": 0.7, \"time_minutes\": 150.0, \"volume_ratio\": 0.9781553398058253, \"IFT\": 19.93}, {\"Gas\": \"CO2\", \"Water_content\": 0.7, \"time_minutes\": 165.0, \"volume_ratio\": 0.979368932038835, \"IFT\": 19.95}, {\"Gas\": \"CO2\", \"Water_content\": 0.7, \"time_minutes\": 180.0, \"volume_ratio\": 0.974514563106796, \"IFT\": 19.87}, {\"Gas\": \"CO2\", \"Water_content\": 0.7, \"time_minutes\": 195.0, \"volume_ratio\": 0.9769417475728156, \"IFT\": 19.92}, {\"Gas\": \"CO2\", \"Water_content\": 0.7, \"time_minutes\": 210.0, \"volume_ratio\": 0.9733009708737863, \"IFT\": 19.86}]}}, {\"mode\": \"vega-lite\"});\n",
       "</script>"
      ],
      "text/plain": [
       "alt.Chart(...)"
      ]
     },
     "execution_count": 30,
     "metadata": {},
     "output_type": "execute_result"
    }
   ],
   "source": [
    "alt.Chart(ift_data, title = 'Change in IFT with water content over time for CH4 and CO2').mark_circle(size=60).encode(\n",
    "    alt.X('time_minutes:Q', title = 'Time'),\n",
    "    alt.Y('IFT:Q'),\n",
    "    alt.Color('Gas:N'),\n",
    ").interactive()"
   ]
  },
  {
   "cell_type": "markdown",
   "metadata": {},
   "source": [
    "### Modeling"
   ]
  },
  {
   "cell_type": "code",
   "execution_count": 35,
   "metadata": {},
   "outputs": [
    {
     "name": "stdout",
     "output_type": "stream",
     "text": [
      "{'Regressor__alpha': 0.4}\n",
      "model score: 0.515\n"
     ]
    }
   ],
   "source": [
    "x= ift_data.iloc[:,:3] # get x\n",
    "y = ift_data.iloc[:,4] # get y\n",
    "# splitting the data into train and test model\n",
    "X_train, X_test, y_train, y_test = train_test_split(x, y, test_size=0.2, random_state=123, shuffle=True)\n",
    "# since we have numeric and categorical features we will create a column transformer to transform them seperately\n",
    "\n",
    "# first transformer for the numeric features\n",
    "numeric_features = ['Water_content', 'time_minutes']\n",
    "numeric_transformer = Pipeline(steps=[\n",
    "    ('imputer', SimpleImputer(strategy='median')),\n",
    "    ('scaler', StandardScaler())])\n",
    "# now a taransformer for the categorical features\n",
    "categorical_features = ['Gas']\n",
    "categorical_transformer = Pipeline(steps=[\n",
    "    ('imputer', SimpleImputer(strategy='constant', fill_value='missing')),\n",
    "    ('onehot', OneHotEncoder(handle_unknown='ignore'))])\n",
    "# creating a preprocessor\n",
    "preprocessor = ColumnTransformer(\n",
    "    transformers=[\n",
    "        ('num', numeric_transformer, numeric_features),\n",
    "        ('cat', categorical_transformer, categorical_features)])\n",
    "\n",
    "ridge_model = Ridge()\n",
    "# include the preprocessor and the model in one pipeline.\n",
    "# Now we have a full prediction pipeline.\n",
    "reg_pipeline = Pipeline(steps=[('preprocessor', preprocessor),\n",
    "                      ('Regressor', ridge_model)])\n",
    "\n",
    "# finally we will pass the pipe line to gridsearchcv to find the optimum paramters for the model\n",
    "param_grid = {\n",
    "    'Regressor__alpha':[0.1,0.25,0.4],\n",
    "}\n",
    "search = GridSearchCV(reg_pipeline,param_grid,cv = 5)\n",
    "\n",
    "# fitting the model\n",
    "search.fit(X_train, y_train)\n",
    "\n",
    "# printing the first parameter\n",
    "print(search.best_params_)\n",
    "print(\"model score: %.3f\" % search.score(X_test, y_test))\n"
   ]
  },
  {
   "cell_type": "code",
   "execution_count": 36,
   "metadata": {},
   "outputs": [
    {
     "data": {
      "text/plain": [
       "22.6419145110395"
      ]
     },
     "execution_count": 36,
     "metadata": {},
     "output_type": "execute_result"
    }
   ],
   "source": [
    "# let's look at he model paramters\n",
    "model_intercept = search.best_estimator_['Regressor'].intercept_\n",
    "model_intercept"
   ]
  },
  {
   "cell_type": "code",
   "execution_count": 37,
   "metadata": {},
   "outputs": [
    {
     "data": {
      "text/plain": [
       "array([-0.28426813, -0.15528172,  1.68815898, -1.68815898])"
      ]
     },
     "execution_count": 37,
     "metadata": {},
     "output_type": "execute_result"
    }
   ],
   "source": [
    "model_slopes = search.best_estimator_['Regressor'].coef_\n",
    "model_slopes\n"
   ]
  },
  {
   "cell_type": "code",
   "execution_count": 38,
   "metadata": {},
   "outputs": [
    {
     "data": {
      "text/html": [
       "<div>\n",
       "<style scoped>\n",
       "    .dataframe tbody tr th:only-of-type {\n",
       "        vertical-align: middle;\n",
       "    }\n",
       "\n",
       "    .dataframe tbody tr th {\n",
       "        vertical-align: top;\n",
       "    }\n",
       "\n",
       "    .dataframe thead th {\n",
       "        text-align: right;\n",
       "    }\n",
       "</style>\n",
       "<table border=\"1\" class=\"dataframe\">\n",
       "  <thead>\n",
       "    <tr style=\"text-align: right;\">\n",
       "      <th></th>\n",
       "      <th>Coefficient</th>\n",
       "    </tr>\n",
       "  </thead>\n",
       "  <tbody>\n",
       "    <tr>\n",
       "      <th>0</th>\n",
       "      <td>-0.284268</td>\n",
       "    </tr>\n",
       "    <tr>\n",
       "      <th>1</th>\n",
       "      <td>-0.155282</td>\n",
       "    </tr>\n",
       "    <tr>\n",
       "      <th>2</th>\n",
       "      <td>1.688159</td>\n",
       "    </tr>\n",
       "    <tr>\n",
       "      <th>3</th>\n",
       "      <td>-1.688159</td>\n",
       "    </tr>\n",
       "  </tbody>\n",
       "</table>\n",
       "</div>"
      ],
      "text/plain": [
       "   Coefficient\n",
       "0    -0.284268\n",
       "1    -0.155282\n",
       "2     1.688159\n",
       "3    -1.688159"
      ]
     },
     "execution_count": 38,
     "metadata": {},
     "output_type": "execute_result"
    }
   ],
   "source": [
    "coeff_parameter = pd.DataFrame(search.best_estimator_['Regressor'].coef_,columns=['Coefficient'])\n",
    "coeff_parameter"
   ]
  },
  {
   "cell_type": "code",
   "execution_count": 39,
   "metadata": {},
   "outputs": [],
   "source": [
    "# let's evaluate the model peroformance using MSE and MAE"
   ]
  },
  {
   "cell_type": "code",
   "execution_count": 40,
   "metadata": {},
   "outputs": [],
   "source": [
    "y_pred = search.predict(X_test)"
   ]
  },
  {
   "cell_type": "code",
   "execution_count": 41,
   "metadata": {},
   "outputs": [
    {
     "name": "stdout",
     "output_type": "stream",
     "text": [
      "Mean Absolute Error: 1.0916569015462978\n",
      "Mean Squared Error: 2.092540826080975\n",
      "Root Mean Squared Error: 1.4465617256380645\n"
     ]
    }
   ],
   "source": [
    "print('Mean Absolute Error:', metrics.mean_absolute_error(y_test, y_pred))\n",
    "print('Mean Squared Error:', metrics.mean_squared_error(y_test, y_pred))\n",
    "print('Root Mean Squared Error:', np.sqrt(metrics.mean_squared_error(y_test, y_pred)))"
   ]
  },
  {
   "cell_type": "markdown",
   "metadata": {},
   "source": [
    "### Model Selection : Trying Gradient boosting"
   ]
  },
  {
   "cell_type": "code",
   "execution_count": 42,
   "metadata": {},
   "outputs": [
    {
     "name": "stdout",
     "output_type": "stream",
     "text": [
      "model score: 0.997\n"
     ]
    }
   ],
   "source": [
    "gb_model = GradientBoostingRegressor()\n",
    "reg_pipeline = Pipeline(steps=[('preprocessor', preprocessor),\n",
    "                      ('Regressor', gb_model)])\n",
    "param_grid = {\n",
    "    'Regressor__learning_rate':[0.1,0.25,0.4],\n",
    "}\n",
    "search = GridSearchCV(reg_pipeline, param_grid, n_jobs=-1)\n",
    "\n",
    "search.fit(X_train, y_train)\n",
    "search.best_params_\n",
    "print(\"model score: %.3f\" % search.score(X_test, y_test))\n",
    "#reg.get_params().keys()"
   ]
  },
  {
   "cell_type": "code",
   "execution_count": 43,
   "metadata": {},
   "outputs": [],
   "source": [
    "y_pred = search.predict(X_test)"
   ]
  },
  {
   "cell_type": "code",
   "execution_count": 44,
   "metadata": {},
   "outputs": [
    {
     "name": "stdout",
     "output_type": "stream",
     "text": [
      "Mean Absolute Error: 0.0727714656053726\n",
      "Mean Squared Error: 0.01216619498468291\n",
      "Root Mean Squared Error: 0.11030047590415423\n"
     ]
    }
   ],
   "source": [
    "print('Mean Absolute Error:', metrics.mean_absolute_error(y_test, y_pred))\n",
    "print('Mean Squared Error:', metrics.mean_squared_error(y_test, y_pred))\n",
    "print('Root Mean Squared Error:', np.sqrt(metrics.mean_squared_error(y_test, y_pred)))\n"
   ]
  },
  {
   "cell_type": "code",
   "execution_count": 45,
   "metadata": {},
   "outputs": [
    {
     "data": {
      "text/html": [
       "<div>\n",
       "<style scoped>\n",
       "    .dataframe tbody tr th:only-of-type {\n",
       "        vertical-align: middle;\n",
       "    }\n",
       "\n",
       "    .dataframe tbody tr th {\n",
       "        vertical-align: top;\n",
       "    }\n",
       "\n",
       "    .dataframe thead th {\n",
       "        text-align: right;\n",
       "    }\n",
       "</style>\n",
       "<table border=\"1\" class=\"dataframe\">\n",
       "  <thead>\n",
       "    <tr style=\"text-align: right;\">\n",
       "      <th></th>\n",
       "      <th>Gas</th>\n",
       "      <th>Water_content</th>\n",
       "      <th>time_minutes</th>\n",
       "    </tr>\n",
       "  </thead>\n",
       "  <tbody>\n",
       "    <tr>\n",
       "      <th>466</th>\n",
       "      <td>CO2</td>\n",
       "      <td>0.10</td>\n",
       "      <td>195.0</td>\n",
       "    </tr>\n",
       "    <tr>\n",
       "      <th>157</th>\n",
       "      <td>CH4</td>\n",
       "      <td>0.20</td>\n",
       "      <td>555.0</td>\n",
       "    </tr>\n",
       "    <tr>\n",
       "      <th>452</th>\n",
       "      <td>CO2</td>\n",
       "      <td>0.00</td>\n",
       "      <td>930.0</td>\n",
       "    </tr>\n",
       "    <tr>\n",
       "      <th>449</th>\n",
       "      <td>CO2</td>\n",
       "      <td>0.00</td>\n",
       "      <td>885.0</td>\n",
       "    </tr>\n",
       "    <tr>\n",
       "      <th>467</th>\n",
       "      <td>CO2</td>\n",
       "      <td>0.10</td>\n",
       "      <td>210.0</td>\n",
       "    </tr>\n",
       "    <tr>\n",
       "      <th>...</th>\n",
       "      <td>...</td>\n",
       "      <td>...</td>\n",
       "      <td>...</td>\n",
       "    </tr>\n",
       "    <tr>\n",
       "      <th>508</th>\n",
       "      <td>CO2</td>\n",
       "      <td>0.10</td>\n",
       "      <td>825.0</td>\n",
       "    </tr>\n",
       "    <tr>\n",
       "      <th>374</th>\n",
       "      <td>CH4</td>\n",
       "      <td>0.70</td>\n",
       "      <td>615.0</td>\n",
       "    </tr>\n",
       "    <tr>\n",
       "      <th>181</th>\n",
       "      <td>CH4</td>\n",
       "      <td>0.20</td>\n",
       "      <td>915.0</td>\n",
       "    </tr>\n",
       "    <tr>\n",
       "      <th>485</th>\n",
       "      <td>CO2</td>\n",
       "      <td>0.10</td>\n",
       "      <td>480.0</td>\n",
       "    </tr>\n",
       "    <tr>\n",
       "      <th>200</th>\n",
       "      <td>CH4</td>\n",
       "      <td>0.33</td>\n",
       "      <td>510.0</td>\n",
       "    </tr>\n",
       "  </tbody>\n",
       "</table>\n",
       "<p>113 rows × 3 columns</p>\n",
       "</div>"
      ],
      "text/plain": [
       "     Gas  Water_content  time_minutes\n",
       "466  CO2           0.10         195.0\n",
       "157  CH4           0.20         555.0\n",
       "452  CO2           0.00         930.0\n",
       "449  CO2           0.00         885.0\n",
       "467  CO2           0.10         210.0\n",
       "..   ...            ...           ...\n",
       "508  CO2           0.10         825.0\n",
       "374  CH4           0.70         615.0\n",
       "181  CH4           0.20         915.0\n",
       "485  CO2           0.10         480.0\n",
       "200  CH4           0.33         510.0\n",
       "\n",
       "[113 rows x 3 columns]"
      ]
     },
     "execution_count": 45,
     "metadata": {},
     "output_type": "execute_result"
    }
   ],
   "source": [
    "X_test"
   ]
  },
  {
   "cell_type": "code",
   "execution_count": 46,
   "metadata": {},
   "outputs": [
    {
     "data": {
      "text/plain": [
       "466    19.12\n",
       "157    24.38\n",
       "452    23.80\n",
       "449    23.81\n",
       "467    19.09\n",
       "       ...  \n",
       "508    18.91\n",
       "374    25.08\n",
       "181    24.54\n",
       "485    18.91\n",
       "200    23.85\n",
       "Name: IFT, Length: 113, dtype: float64"
      ]
     },
     "execution_count": 46,
     "metadata": {},
     "output_type": "execute_result"
    }
   ],
   "source": [
    "y_test"
   ]
  },
  {
   "cell_type": "code",
   "execution_count": 47,
   "metadata": {},
   "outputs": [
    {
     "data": {
      "text/html": [
       "<div>\n",
       "<style scoped>\n",
       "    .dataframe tbody tr th:only-of-type {\n",
       "        vertical-align: middle;\n",
       "    }\n",
       "\n",
       "    .dataframe tbody tr th {\n",
       "        vertical-align: top;\n",
       "    }\n",
       "\n",
       "    .dataframe thead th {\n",
       "        text-align: right;\n",
       "    }\n",
       "</style>\n",
       "<table border=\"1\" class=\"dataframe\">\n",
       "  <thead>\n",
       "    <tr style=\"text-align: right;\">\n",
       "      <th></th>\n",
       "      <th>Gas</th>\n",
       "      <th>Water_content</th>\n",
       "      <th>time_minutes</th>\n",
       "    </tr>\n",
       "  </thead>\n",
       "  <tbody>\n",
       "    <tr>\n",
       "      <th>466</th>\n",
       "      <td>CO2</td>\n",
       "      <td>0.1</td>\n",
       "      <td>195.0</td>\n",
       "    </tr>\n",
       "  </tbody>\n",
       "</table>\n",
       "</div>"
      ],
      "text/plain": [
       "     Gas  Water_content  time_minutes\n",
       "466  CO2            0.1         195.0"
      ]
     },
     "execution_count": 47,
     "metadata": {},
     "output_type": "execute_result"
    }
   ],
   "source": [
    "new_data = X_test.iloc[[0]]\n",
    "new_data"
   ]
  },
  {
   "cell_type": "code",
   "execution_count": 48,
   "metadata": {},
   "outputs": [
    {
     "data": {
      "text/plain": [
       "array([19.1559994])"
      ]
     },
     "execution_count": 48,
     "metadata": {},
     "output_type": "execute_result"
    }
   ],
   "source": [
    "search.predict(new_data)"
   ]
  },
  {
   "cell_type": "code",
   "execution_count": 49,
   "metadata": {},
   "outputs": [
    {
     "name": "stderr",
     "output_type": "stream",
     "text": [
      "/Users/mosal/opt/anaconda3/lib/python3.8/site-packages/pandas/core/indexing.py:966: SettingWithCopyWarning: \n",
      "A value is trying to be set on a copy of a slice from a DataFrame.\n",
      "Try using .loc[row_indexer,col_indexer] = value instead\n",
      "\n",
      "See the caveats in the documentation: https://pandas.pydata.org/pandas-docs/stable/user_guide/indexing.html#returning-a-view-versus-a-copy\n",
      "  self.obj[item] = s\n"
     ]
    }
   ],
   "source": [
    "new_data.iloc[0,1] = 0.7"
   ]
  },
  {
   "cell_type": "code",
   "execution_count": 50,
   "metadata": {},
   "outputs": [
    {
     "data": {
      "text/html": [
       "<div>\n",
       "<style scoped>\n",
       "    .dataframe tbody tr th:only-of-type {\n",
       "        vertical-align: middle;\n",
       "    }\n",
       "\n",
       "    .dataframe tbody tr th {\n",
       "        vertical-align: top;\n",
       "    }\n",
       "\n",
       "    .dataframe thead th {\n",
       "        text-align: right;\n",
       "    }\n",
       "</style>\n",
       "<table border=\"1\" class=\"dataframe\">\n",
       "  <thead>\n",
       "    <tr style=\"text-align: right;\">\n",
       "      <th></th>\n",
       "      <th>Gas</th>\n",
       "      <th>Water_content</th>\n",
       "      <th>time_minutes</th>\n",
       "    </tr>\n",
       "  </thead>\n",
       "  <tbody>\n",
       "    <tr>\n",
       "      <th>466</th>\n",
       "      <td>CO2</td>\n",
       "      <td>0.7</td>\n",
       "      <td>195.0</td>\n",
       "    </tr>\n",
       "  </tbody>\n",
       "</table>\n",
       "</div>"
      ],
      "text/plain": [
       "     Gas  Water_content  time_minutes\n",
       "466  CO2            0.7         195.0"
      ]
     },
     "execution_count": 50,
     "metadata": {},
     "output_type": "execute_result"
    }
   ],
   "source": [
    "new_data\n"
   ]
  },
  {
   "cell_type": "code",
   "execution_count": 51,
   "metadata": {},
   "outputs": [
    {
     "data": {
      "text/plain": [
       "array([19.93307007])"
      ]
     },
     "execution_count": 51,
     "metadata": {},
     "output_type": "execute_result"
    }
   ],
   "source": [
    "search.predict(new_data)"
   ]
  },
  {
   "cell_type": "code",
   "execution_count": 52,
   "metadata": {},
   "outputs": [],
   "source": [
    "## saving thee model : "
   ]
  },
  {
   "cell_type": "code",
   "execution_count": 53,
   "metadata": {},
   "outputs": [
    {
     "data": {
      "text/plain": [
       "['model.pkl']"
      ]
     },
     "execution_count": 53,
     "metadata": {},
     "output_type": "execute_result"
    }
   ],
   "source": [
    "from joblib import dump, load\n",
    "\n",
    "\n",
    "dump(search.best_estimator_, 'model.pkl')"
   ]
  },
  {
   "cell_type": "code",
   "execution_count": 54,
   "metadata": {},
   "outputs": [
    {
     "data": {
      "text/plain": [
       "array([19.93307007])"
      ]
     },
     "execution_count": 54,
     "metadata": {},
     "output_type": "execute_result"
    }
   ],
   "source": [
    "model = load('model.pkl')\n",
    "\n",
    "model.predict(new_data)"
   ]
  },
  {
   "cell_type": "code",
   "execution_count": null,
   "metadata": {},
   "outputs": [],
   "source": []
  }
 ],
 "metadata": {
  "kernelspec": {
   "display_name": "Python 3",
   "language": "python",
   "name": "python3"
  },
  "language_info": {
   "codemirror_mode": {
    "name": "ipython",
    "version": 3
   },
   "file_extension": ".py",
   "mimetype": "text/x-python",
   "name": "python",
   "nbconvert_exporter": "python",
   "pygments_lexer": "ipython3",
   "version": "3.8.3"
  }
 },
 "nbformat": 4,
 "nbformat_minor": 4
}
